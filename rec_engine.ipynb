{
 "cells": [
  {
   "cell_type": "code",
   "execution_count": 1,
   "metadata": {
    "ExecuteTime": {
     "end_time": "2018-07-05T20:38:45.298608Z",
     "start_time": "2018-07-05T20:38:44.965649Z"
    }
   },
   "outputs": [],
   "source": [
    "import pandas as pd\n",
    "import numpy as np\n",
    "import re\n",
    "\n",
    "# Pandas Settings\n",
    "import warnings\n",
    "warnings.filterwarnings(\"ignore\")\n",
    "pd.set_option('precision', 2)"
   ]
  },
  {
   "cell_type": "markdown",
   "metadata": {},
   "source": [
    "## Import"
   ]
  },
  {
   "cell_type": "code",
   "execution_count": 2,
   "metadata": {
    "ExecuteTime": {
     "end_time": "2018-07-05T20:38:45.370017Z",
     "start_time": "2018-07-05T20:38:45.300608Z"
    }
   },
   "outputs": [],
   "source": [
    "df = pd.read_csv('data/cleaned_books.csv')"
   ]
  },
  {
   "cell_type": "markdown",
   "metadata": {},
   "source": [
    "## Recommendation Engine with Count Vectorizer"
   ]
  },
  {
   "cell_type": "code",
   "execution_count": 3,
   "metadata": {
    "ExecuteTime": {
     "end_time": "2018-07-05T20:38:45.608102Z",
     "start_time": "2018-07-05T20:38:45.371935Z"
    }
   },
   "outputs": [],
   "source": [
    "from sklearn.feature_extraction.text import TfidfVectorizer, CountVectorizer\n",
    "\n",
    "# Linear Kernel is faster than cosine_similarities\n",
    "from sklearn.metrics.pairwise import linear_kernel\n",
    "\n",
    "# Parse the stringified features into their corresponding python objects\n",
    "from ast import literal_eval\n",
    "from sklearn.metrics.pairwise import cosine_similarity"
   ]
  },
  {
   "cell_type": "code",
   "execution_count": 4,
   "metadata": {
    "ExecuteTime": {
     "end_time": "2018-07-05T20:38:45.613704Z",
     "start_time": "2018-07-05T20:38:45.610349Z"
    }
   },
   "outputs": [],
   "source": [
    "# Function to convert all strings to lower case and strip names of spaces\n",
    "def clean_data(x):\n",
    "    if isinstance(x, list):\n",
    "        return [str.lower(i.replace(\" \", \"\")) for i in x]\n",
    "    else:\n",
    "        if isinstance(x, str):\n",
    "            return str.lower(x.replace(\" \", \"\"))\n",
    "        else:\n",
    "            return ''"
   ]
  },
  {
   "cell_type": "code",
   "execution_count": 5,
   "metadata": {
    "ExecuteTime": {
     "end_time": "2018-07-05T20:38:45.618527Z",
     "start_time": "2018-07-05T20:38:45.615716Z"
    }
   },
   "outputs": [],
   "source": [
    "def create_soup(x):\n",
    "    return x['author'] + ' ' +x['summary'] + ' ' + x['publisher'] + ' ' + x['country'] + x['genre']"
   ]
  },
  {
   "cell_type": "code",
   "execution_count": 6,
   "metadata": {
    "ExecuteTime": {
     "end_time": "2018-07-05T20:38:45.685089Z",
     "start_time": "2018-07-05T20:38:45.620488Z"
    }
   },
   "outputs": [],
   "source": [
    "features = ['author','summary','publisher','country']\n",
    "\n",
    "for feature in features:\n",
    "    df[feature] = df[feature].apply(clean_data)"
   ]
  },
  {
   "cell_type": "code",
   "execution_count": 7,
   "metadata": {
    "ExecuteTime": {
     "end_time": "2018-07-05T20:38:45.739354Z",
     "start_time": "2018-07-05T20:38:45.687199Z"
    }
   },
   "outputs": [],
   "source": [
    "df['soup'] = df.apply(create_soup,axis=1)"
   ]
  },
  {
   "cell_type": "code",
   "execution_count": 8,
   "metadata": {
    "ExecuteTime": {
     "end_time": "2018-07-05T20:38:47.583157Z",
     "start_time": "2018-07-05T20:38:45.741333Z"
    }
   },
   "outputs": [],
   "source": [
    "count = CountVectorizer(stop_words='english',ngram_range=(1,3),analyzer='word')\n",
    "count_matrix = count.fit_transform(df.soup)"
   ]
  },
  {
   "cell_type": "code",
   "execution_count": 9,
   "metadata": {
    "ExecuteTime": {
     "end_time": "2018-07-05T20:38:47.662114Z",
     "start_time": "2018-07-05T20:38:47.584866Z"
    }
   },
   "outputs": [],
   "source": [
    "cosine_sim = cosine_similarity(count_matrix, count_matrix)"
   ]
  },
  {
   "cell_type": "code",
   "execution_count": 10,
   "metadata": {
    "ExecuteTime": {
     "end_time": "2018-07-05T20:38:47.668403Z",
     "start_time": "2018-07-05T20:38:47.663872Z"
    }
   },
   "outputs": [],
   "source": [
    "def get_recommendations(title,cosine_sim=cosine_sim):\n",
    "    # Get the index of the movie that matches the title\n",
    "    idx = indices[title]\n",
    "    \n",
    "    # Get the pairwise similarity scores of all movies with that movie\n",
    "    sim_scores = list(enumerate(cosine_sim[idx]))\n",
    "    \n",
    "    # Sort the movies based on the similarity scores\n",
    "    sim_scores = sorted(sim_scores, key=lambda x: x[1], reverse=True)\n",
    "    \n",
    "    # Get the scores of the 10 most similar movies\n",
    "    sim_scores = sim_scores[1:11]\n",
    "    \n",
    "    # Get the movie indices\n",
    "    book_indices = [i[0] for i in sim_scores]\n",
    "    \n",
    "    # Return the top 10 most similar movies\n",
    "    return df['title'].iloc[book_indices]"
   ]
  },
  {
   "cell_type": "code",
   "execution_count": 11,
   "metadata": {
    "ExecuteTime": {
     "end_time": "2018-07-05T20:38:47.674112Z",
     "start_time": "2018-07-05T20:38:47.670883Z"
    }
   },
   "outputs": [],
   "source": [
    "#df = df.reset_index()\n",
    "indices = pd.Series(df.index, index=df['title'])"
   ]
  },
  {
   "cell_type": "code",
   "execution_count": 12,
   "metadata": {
    "ExecuteTime": {
     "end_time": "2018-07-05T20:38:47.689912Z",
     "start_time": "2018-07-05T20:38:47.676064Z"
    }
   },
   "outputs": [
    {
     "data": {
      "text/plain": [
       "545                              Orlando: A Biography\n",
       "434                   Something Wicked This Way Comes\n",
       "9                                                Worm\n",
       "53                                             Uglies\n",
       "740                              Flowers for Algernon\n",
       "98                            The Wolves in the Walls\n",
       "743                                         Fledgling\n",
       "114    The Water-Babies, A Fairy Tale for a Land Baby\n",
       "863                 Charlie and the Chocolate Factory\n",
       "232                                     The Magicians\n",
       "Name: title, dtype: object"
      ]
     },
     "execution_count": 12,
     "metadata": {},
     "output_type": "execute_result"
    }
   ],
   "source": [
    "get_recommendations('American Gods')"
   ]
  },
  {
   "cell_type": "markdown",
   "metadata": {},
   "source": [
    "## TF-IDF"
   ]
  },
  {
   "cell_type": "code",
   "execution_count": 13,
   "metadata": {
    "ExecuteTime": {
     "end_time": "2018-07-05T20:38:47.696122Z",
     "start_time": "2018-07-05T20:38:47.691818Z"
    }
   },
   "outputs": [],
   "source": [
    "from sklearn.metrics.pairwise import linear_kernel"
   ]
  },
  {
   "cell_type": "code",
   "execution_count": 14,
   "metadata": {
    "ExecuteTime": {
     "end_time": "2018-07-05T20:38:49.748344Z",
     "start_time": "2018-07-05T20:38:47.698196Z"
    }
   },
   "outputs": [
    {
     "data": {
      "text/plain": [
       "(965, 469409)"
      ]
     },
     "execution_count": 14,
     "metadata": {},
     "output_type": "execute_result"
    }
   ],
   "source": [
    "tfidf = TfidfVectorizer(stop_words='english',ngram_range=(1,3),analyzer='word')\n",
    "tfidf_matrix = tfidf.fit_transform(df['summary'])\n",
    "tfidf_matrix.shape"
   ]
  },
  {
   "cell_type": "code",
   "execution_count": 15,
   "metadata": {
    "ExecuteTime": {
     "end_time": "2018-07-05T20:38:49.793593Z",
     "start_time": "2018-07-05T20:38:49.750310Z"
    }
   },
   "outputs": [],
   "source": [
    "cosine_sim2 = linear_kernel(tfidf_matrix,tfidf_matrix)"
   ]
  },
  {
   "cell_type": "code",
   "execution_count": 16,
   "metadata": {
    "ExecuteTime": {
     "end_time": "2018-07-05T20:38:49.804266Z",
     "start_time": "2018-07-05T20:38:49.796382Z"
    }
   },
   "outputs": [],
   "source": [
    "indices = pd.Series(df.index, index=df['title']).drop_duplicates()"
   ]
  },
  {
   "cell_type": "markdown",
   "metadata": {},
   "source": [
    "## Comparing TF-IDF vs Count Vectorizer"
   ]
  },
  {
   "cell_type": "code",
   "execution_count": 17,
   "metadata": {
    "ExecuteTime": {
     "end_time": "2018-07-05T20:38:49.812979Z",
     "start_time": "2018-07-05T20:38:49.806428Z"
    }
   },
   "outputs": [
    {
     "data": {
      "text/plain": [
       "434                   Something Wicked This Way Comes\n",
       "545                              Orlando: A Biography\n",
       "570                                        Neverwhere\n",
       "272                                        The Hobbit\n",
       "930              Aleriel, or A Voyage to Other Worlds\n",
       "114    The Water-Babies, A Fairy Tale for a Land Baby\n",
       "650               Kandide and the Secret of the Mists\n",
       "632                                            Lilith\n",
       "9                                                Worm\n",
       "301                         The First Men in the Moon\n",
       "Name: title, dtype: object"
      ]
     },
     "execution_count": 17,
     "metadata": {},
     "output_type": "execute_result"
    }
   ],
   "source": [
    "# TF-IDF\n",
    "get_recommendations('American Gods', cosine_sim2)"
   ]
  },
  {
   "cell_type": "code",
   "execution_count": 18,
   "metadata": {
    "ExecuteTime": {
     "end_time": "2018-07-05T20:38:49.826977Z",
     "start_time": "2018-07-05T20:38:49.815030Z"
    }
   },
   "outputs": [
    {
     "data": {
      "text/plain": [
       "545                              Orlando: A Biography\n",
       "434                   Something Wicked This Way Comes\n",
       "9                                                Worm\n",
       "53                                             Uglies\n",
       "740                              Flowers for Algernon\n",
       "98                            The Wolves in the Walls\n",
       "743                                         Fledgling\n",
       "114    The Water-Babies, A Fairy Tale for a Land Baby\n",
       "863                 Charlie and the Chocolate Factory\n",
       "232                                     The Magicians\n",
       "Name: title, dtype: object"
      ]
     },
     "execution_count": 18,
     "metadata": {},
     "output_type": "execute_result"
    }
   ],
   "source": [
    "# CV\n",
    "get_recommendations('American Gods')"
   ]
  },
  {
   "cell_type": "code",
   "execution_count": 19,
   "metadata": {
    "ExecuteTime": {
     "end_time": "2018-07-05T20:38:49.837752Z",
     "start_time": "2018-07-05T20:38:49.830076Z"
    }
   },
   "outputs": [
    {
     "data": {
      "text/plain": [
       "770               Ender's Shadow\n",
       "772               Ender in Exile\n",
       "426         Speaker for the Dead\n",
       "460               Shadow Puppets\n",
       "455            Shadows in Flight\n",
       "408            Starship Troopers\n",
       "7                       Xenocide\n",
       "244    The Left Hand of Darkness\n",
       "878                     Brisingr\n",
       "294               The Glass Bees\n",
       "Name: title, dtype: object"
      ]
     },
     "execution_count": 19,
     "metadata": {},
     "output_type": "execute_result"
    }
   ],
   "source": [
    "# TF-IDF\n",
    "get_recommendations(\"Ender's Game\",cosine_sim2)"
   ]
  },
  {
   "cell_type": "code",
   "execution_count": 20,
   "metadata": {
    "ExecuteTime": {
     "end_time": "2018-07-05T20:38:49.847222Z",
     "start_time": "2018-07-05T20:38:49.840966Z"
    }
   },
   "outputs": [
    {
     "data": {
      "text/plain": [
       "770                   Ender's Shadow\n",
       "772                   Ender in Exile\n",
       "426             Speaker for the Dead\n",
       "408                Starship Troopers\n",
       "244        The Left Hand of Darkness\n",
       "294                   The Glass Bees\n",
       "878                         Brisingr\n",
       "460                   Shadow Puppets\n",
       "659    Jonathan Strange & Mr Norrell\n",
       "455                Shadows in Flight\n",
       "Name: title, dtype: object"
      ]
     },
     "execution_count": 20,
     "metadata": {},
     "output_type": "execute_result"
    }
   ],
   "source": [
    "# CV\n",
    "get_recommendations(\"Ender's Game\")"
   ]
  },
  {
   "cell_type": "code",
   "execution_count": 21,
   "metadata": {
    "ExecuteTime": {
     "end_time": "2018-07-05T20:38:49.855362Z",
     "start_time": "2018-07-05T20:38:49.849109Z"
    }
   },
   "outputs": [
    {
     "data": {
      "text/plain": [
       "408                                  Starship Troopers\n",
       "207    The Narrative of Arthur Gordon Pym of Nantucket\n",
       "754                                     Fahrenheit 451\n",
       "244                          The Left Hand of Darkness\n",
       "908                                     Atlas Shrugged\n",
       "659                      Jonathan Strange & Mr Norrell\n",
       "165                                   The Silmarillion\n",
       "499                        Red Moon and Black Mountain\n",
       "788                                               Dune\n",
       "563                               Nineteen Eighty-Four\n",
       "Name: title, dtype: object"
      ]
     },
     "execution_count": 21,
     "metadata": {},
     "output_type": "execute_result"
    }
   ],
   "source": [
    "# TF-IDF\n",
    "get_recommendations(\"The Hobbit\",cosine_sim2)"
   ]
  },
  {
   "cell_type": "code",
   "execution_count": 22,
   "metadata": {
    "ExecuteTime": {
     "end_time": "2018-07-05T20:38:49.867263Z",
     "start_time": "2018-07-05T20:38:49.857193Z"
    }
   },
   "outputs": [
    {
     "data": {
      "text/plain": [
       "408                                  Starship Troopers\n",
       "244                          The Left Hand of Darkness\n",
       "207    The Narrative of Arthur Gordon Pym of Nantucket\n",
       "165                                   The Silmarillion\n",
       "245                              The Lays of Beleriand\n",
       "475                                         Roverandom\n",
       "659                      Jonathan Strange & Mr Norrell\n",
       "754                                     Fahrenheit 451\n",
       "908                                     Atlas Shrugged\n",
       "359                             The Book of Lost Tales\n",
       "Name: title, dtype: object"
      ]
     },
     "execution_count": 22,
     "metadata": {},
     "output_type": "execute_result"
    }
   ],
   "source": [
    "# CV\n",
    "get_recommendations(\"The Hobbit\")"
   ]
  },
  {
   "cell_type": "code",
   "execution_count": 23,
   "metadata": {
    "ExecuteTime": {
     "end_time": "2018-07-05T20:38:49.881846Z",
     "start_time": "2018-07-05T20:38:49.873285Z"
    }
   },
   "outputs": [
    {
     "data": {
      "text/plain": [
       "591     Millroy the Magician\n",
       "844        Close to Critical\n",
       "271            The Hollowing\n",
       "475               Roverandom\n",
       "138      The Three Impostors\n",
       "737            Forever Peace\n",
       "938              Accelerando\n",
       "286        The Great God Pan\n",
       "394    Synthetic Men of Mars\n",
       "696     Hereafter, and After\n",
       "Name: title, dtype: object"
      ]
     },
     "execution_count": 23,
     "metadata": {},
     "output_type": "execute_result"
    }
   ],
   "source": [
    "get_recommendations(\"The Name of the Wind\",cosine_sim2)"
   ]
  },
  {
   "cell_type": "code",
   "execution_count": 24,
   "metadata": {
    "ExecuteTime": {
     "end_time": "2018-07-05T20:38:49.892187Z",
     "start_time": "2018-07-05T20:38:49.883695Z"
    }
   },
   "outputs": [
    {
     "data": {
      "text/plain": [
       "776                         Emergence\n",
       "391                           Tam Lin\n",
       "576    Mr. Magorium's Wonder Emporium\n",
       "271                     The Hollowing\n",
       "3                   Ylana of Callisto\n",
       "620                     Lost on Venus\n",
       "844                 Close to Critical\n",
       "100                 The Wizard of Zao\n",
       "765                   Escape on Venus\n",
       "570                        Neverwhere\n",
       "Name: title, dtype: object"
      ]
     },
     "execution_count": 24,
     "metadata": {},
     "output_type": "execute_result"
    }
   ],
   "source": [
    "get_recommendations(\"The Name of the Wind\")"
   ]
  },
  {
   "cell_type": "markdown",
   "metadata": {},
   "source": [
    "I will probably go with count vectorizer for the recommendation engine since readers are probably likely to enjoy similar works from the same author and genre so I do not want to down weight those. Also based soley on the recommendations I am getting from the two different cosine similarities it loos like Count Vectorizer is doing well.\n",
    "\n",
    "Overall though they are very similar."
   ]
  },
  {
   "cell_type": "code",
   "execution_count": null,
   "metadata": {},
   "outputs": [],
   "source": []
  }
 ],
 "metadata": {
  "kernelspec": {
   "display_name": "Python 3",
   "language": "python",
   "name": "python3"
  },
  "language_info": {
   "codemirror_mode": {
    "name": "ipython",
    "version": 3
   },
   "file_extension": ".py",
   "mimetype": "text/x-python",
   "name": "python",
   "nbconvert_exporter": "python",
   "pygments_lexer": "ipython3",
   "version": "3.6.6"
  },
  "toc": {
   "nav_menu": {},
   "number_sections": true,
   "sideBar": true,
   "skip_h1_title": false,
   "toc_cell": false,
   "toc_position": {},
   "toc_section_display": "block",
   "toc_window_display": true
  }
 },
 "nbformat": 4,
 "nbformat_minor": 2
}
