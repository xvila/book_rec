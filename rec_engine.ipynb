{
 "cells": [
  {
   "cell_type": "code",
   "execution_count": 1,
   "metadata": {
    "ExecuteTime": {
     "end_time": "2018-07-04T21:23:50.704097Z",
     "start_time": "2018-07-04T21:23:50.352160Z"
    }
   },
   "outputs": [],
   "source": [
    "import pandas as pd\n",
    "import numpy as np\n",
    "import re\n",
    "\n",
    "# Pandas Settings\n",
    "import warnings\n",
    "warnings.filterwarnings(\"ignore\")\n",
    "pd.set_option('precision', 2)"
   ]
  },
  {
   "cell_type": "markdown",
   "metadata": {},
   "source": [
    "## Import"
   ]
  },
  {
   "cell_type": "code",
   "execution_count": 2,
   "metadata": {
    "ExecuteTime": {
     "end_time": "2018-07-04T21:23:50.774644Z",
     "start_time": "2018-07-04T21:23:50.706014Z"
    }
   },
   "outputs": [],
   "source": [
    "df = pd.read_csv('data/cleaned_books.csv')"
   ]
  },
  {
   "cell_type": "markdown",
   "metadata": {},
   "source": [
    "## Recommendation Engine with Count Vectorizer"
   ]
  },
  {
   "cell_type": "code",
   "execution_count": 3,
   "metadata": {
    "ExecuteTime": {
     "end_time": "2018-07-04T21:23:51.027646Z",
     "start_time": "2018-07-04T21:23:50.776778Z"
    }
   },
   "outputs": [],
   "source": [
    "from sklearn.feature_extraction.text import TfidfVectorizer, CountVectorizer\n",
    "\n",
    "# Linear Kernel is faster than cosine_similarities\n",
    "from sklearn.metrics.pairwise import linear_kernel\n",
    "\n",
    "# Parse the stringified features into their corresponding python objects\n",
    "from ast import literal_eval\n",
    "from sklearn.metrics.pairwise import cosine_similarity"
   ]
  },
  {
   "cell_type": "code",
   "execution_count": 4,
   "metadata": {
    "ExecuteTime": {
     "end_time": "2018-07-04T21:23:51.037761Z",
     "start_time": "2018-07-04T21:23:51.030885Z"
    }
   },
   "outputs": [],
   "source": [
    "# Function to convert all strings to lower case and strip names of spaces\n",
    "def clean_data(x):\n",
    "    if isinstance(x, list):\n",
    "        return [str.lower(i.replace(\" \", \"\")) for i in x]\n",
    "    else:\n",
    "        #Check if director exists. If not, return empty string\n",
    "        if isinstance(x, str):\n",
    "            return str.lower(x.replace(\" \", \"\"))\n",
    "        else:\n",
    "            return ''"
   ]
  },
  {
   "cell_type": "code",
   "execution_count": 5,
   "metadata": {
    "ExecuteTime": {
     "end_time": "2018-07-04T21:23:51.042705Z",
     "start_time": "2018-07-04T21:23:51.039763Z"
    }
   },
   "outputs": [],
   "source": [
    "def create_soup(x):\n",
    "    return x['author'] + ' ' +x['summary'] + ' ' + x['publisher'] + ' ' + x['country']"
   ]
  },
  {
   "cell_type": "code",
   "execution_count": 6,
   "metadata": {
    "ExecuteTime": {
     "end_time": "2018-07-04T21:23:51.116992Z",
     "start_time": "2018-07-04T21:23:51.045223Z"
    }
   },
   "outputs": [],
   "source": [
    "features = ['author','summary','publisher','country']\n",
    "\n",
    "for feature in features:\n",
    "    df[feature] = df[feature].apply(clean_data)"
   ]
  },
  {
   "cell_type": "code",
   "execution_count": 7,
   "metadata": {
    "ExecuteTime": {
     "end_time": "2018-07-04T21:23:51.166783Z",
     "start_time": "2018-07-04T21:23:51.119004Z"
    }
   },
   "outputs": [],
   "source": [
    "df['soup'] = df.apply(create_soup,axis=1)"
   ]
  },
  {
   "cell_type": "code",
   "execution_count": 8,
   "metadata": {
    "ExecuteTime": {
     "end_time": "2018-07-04T21:23:51.770894Z",
     "start_time": "2018-07-04T21:23:51.168640Z"
    }
   },
   "outputs": [],
   "source": [
    "count = CountVectorizer(stop_words='english')\n",
    "count_matrix = count.fit_transform(df.soup)"
   ]
  },
  {
   "cell_type": "code",
   "execution_count": 9,
   "metadata": {
    "ExecuteTime": {
     "end_time": "2018-07-04T21:23:51.821463Z",
     "start_time": "2018-07-04T21:23:51.772893Z"
    }
   },
   "outputs": [],
   "source": [
    "cosine_sim = cosine_similarity(count_matrix, count_matrix)"
   ]
  },
  {
   "cell_type": "code",
   "execution_count": 28,
   "metadata": {
    "ExecuteTime": {
     "end_time": "2018-07-04T22:24:11.046966Z",
     "start_time": "2018-07-04T22:24:11.042104Z"
    }
   },
   "outputs": [],
   "source": [
    "def get_recommendations(title,cosine_sim=cosine_sim):\n",
    "    # Get the index of the movie that matches the title\n",
    "    idx = indices[title]\n",
    "    \n",
    "    # Get the pairwise similarity scores of all movies with that movie\n",
    "    sim_scores = list(enumerate(cosine_sim[idx]))\n",
    "    \n",
    "    # Sort the movies based on the similarity scores\n",
    "    sim_scores = sorted(sim_scores, key=lambda x: x[1], reverse=True)\n",
    "    \n",
    "    # Get the scores of the 10 most similar movies\n",
    "    sim_scores = sim_scores[1:11]\n",
    "    \n",
    "    # Get the movie indices\n",
    "    book_indices = [i[0] for i in sim_scores]\n",
    "    \n",
    "    # Return the top 10 most similar movies\n",
    "    return df['title'].iloc[book_indices]"
   ]
  },
  {
   "cell_type": "code",
   "execution_count": 29,
   "metadata": {
    "ExecuteTime": {
     "end_time": "2018-07-04T22:24:11.248643Z",
     "start_time": "2018-07-04T22:24:11.245169Z"
    }
   },
   "outputs": [],
   "source": [
    "#df = df.reset_index()\n",
    "indices = pd.Series(df.index, index=df['title'])"
   ]
  },
  {
   "cell_type": "code",
   "execution_count": 30,
   "metadata": {
    "ExecuteTime": {
     "end_time": "2018-07-04T22:24:11.417735Z",
     "start_time": "2018-07-04T22:24:11.410611Z"
    }
   },
   "outputs": [
    {
     "data": {
      "text/plain": [
       "545                              Orlando: A Biography\n",
       "434                   Something Wicked This Way Comes\n",
       "9                                                Worm\n",
       "98                            The Wolves in the Walls\n",
       "740                              Flowers for Algernon\n",
       "53                                             Uglies\n",
       "114    The Water-Babies, A Fairy Tale for a Land Baby\n",
       "863                 Charlie and the Chocolate Factory\n",
       "470                                 Saturn's Children\n",
       "301                         The First Men in the Moon\n",
       "Name: title, dtype: object"
      ]
     },
     "execution_count": 30,
     "metadata": {},
     "output_type": "execute_result"
    }
   ],
   "source": [
    "get_recommendations('American Gods')"
   ]
  },
  {
   "cell_type": "markdown",
   "metadata": {},
   "source": [
    "## TF-IDF"
   ]
  },
  {
   "cell_type": "code",
   "execution_count": 31,
   "metadata": {
    "ExecuteTime": {
     "end_time": "2018-07-04T22:24:12.341087Z",
     "start_time": "2018-07-04T22:24:11.712873Z"
    }
   },
   "outputs": [
    {
     "data": {
      "text/plain": [
       "(965, 143940)"
      ]
     },
     "execution_count": 31,
     "metadata": {},
     "output_type": "execute_result"
    }
   ],
   "source": [
    "tfidf = TfidfVectorizer(stop_words='english')\n",
    "tfidf_matrix = tfidf.fit_transform(df['soup'])\n",
    "tfidf_matrix.shape"
   ]
  },
  {
   "cell_type": "code",
   "execution_count": 32,
   "metadata": {
    "ExecuteTime": {
     "end_time": "2018-07-04T22:24:12.376552Z",
     "start_time": "2018-07-04T22:24:12.344430Z"
    }
   },
   "outputs": [],
   "source": [
    "cosine_sim2 = cosine_similarity(tfidf_matrix,tfidf_matrix)"
   ]
  },
  {
   "cell_type": "code",
   "execution_count": 33,
   "metadata": {
    "ExecuteTime": {
     "end_time": "2018-07-04T22:24:12.387946Z",
     "start_time": "2018-07-04T22:24:12.380797Z"
    }
   },
   "outputs": [],
   "source": [
    "indices = pd.Series(df.index, index=df['title']).drop_duplicates()"
   ]
  },
  {
   "cell_type": "markdown",
   "metadata": {},
   "source": [
    "## Comparing TF-IDF vs Count Vectorizer"
   ]
  },
  {
   "cell_type": "code",
   "execution_count": 34,
   "metadata": {
    "ExecuteTime": {
     "end_time": "2018-07-04T22:24:12.399819Z",
     "start_time": "2018-07-04T22:24:12.390639Z"
    }
   },
   "outputs": [
    {
     "data": {
      "text/plain": [
       "388                                          Template\n",
       "434                   Something Wicked This Way Comes\n",
       "545                              Orlando: A Biography\n",
       "570                                        Neverwhere\n",
       "272                                        The Hobbit\n",
       "98                            The Wolves in the Walls\n",
       "740                              Flowers for Algernon\n",
       "930              Aleriel, or A Voyage to Other Worlds\n",
       "114    The Water-Babies, A Fairy Tale for a Land Baby\n",
       "711                                        Good Omens\n",
       "Name: title, dtype: object"
      ]
     },
     "execution_count": 34,
     "metadata": {},
     "output_type": "execute_result"
    }
   ],
   "source": [
    "# TF-IDF\n",
    "get_recommendations('American Gods', cosine_sim2)"
   ]
  },
  {
   "cell_type": "code",
   "execution_count": 35,
   "metadata": {
    "ExecuteTime": {
     "end_time": "2018-07-04T22:24:12.445452Z",
     "start_time": "2018-07-04T22:24:12.435349Z"
    }
   },
   "outputs": [
    {
     "data": {
      "text/plain": [
       "545                              Orlando: A Biography\n",
       "434                   Something Wicked This Way Comes\n",
       "9                                                Worm\n",
       "98                            The Wolves in the Walls\n",
       "740                              Flowers for Algernon\n",
       "53                                             Uglies\n",
       "114    The Water-Babies, A Fairy Tale for a Land Baby\n",
       "863                 Charlie and the Chocolate Factory\n",
       "470                                 Saturn's Children\n",
       "301                         The First Men in the Moon\n",
       "Name: title, dtype: object"
      ]
     },
     "execution_count": 35,
     "metadata": {},
     "output_type": "execute_result"
    }
   ],
   "source": [
    "# CV\n",
    "get_recommendations('American Gods')"
   ]
  },
  {
   "cell_type": "code",
   "execution_count": 36,
   "metadata": {
    "ExecuteTime": {
     "end_time": "2018-07-04T22:24:12.577790Z",
     "start_time": "2018-07-04T22:24:12.566971Z"
    }
   },
   "outputs": [
    {
     "data": {
      "text/plain": [
       "770               Ender's Shadow\n",
       "772               Ender in Exile\n",
       "426         Speaker for the Dead\n",
       "460               Shadow Puppets\n",
       "455            Shadows in Flight\n",
       "408            Starship Troopers\n",
       "7                       Xenocide\n",
       "244    The Left Hand of Darkness\n",
       "294               The Glass Bees\n",
       "878                     Brisingr\n",
       "Name: title, dtype: object"
      ]
     },
     "execution_count": 36,
     "metadata": {},
     "output_type": "execute_result"
    }
   ],
   "source": [
    "# TF-IDF\n",
    "get_recommendations(\"Ender's Game\",cosine_sim2)"
   ]
  },
  {
   "cell_type": "code",
   "execution_count": 37,
   "metadata": {
    "ExecuteTime": {
     "end_time": "2018-07-04T22:24:12.723949Z",
     "start_time": "2018-07-04T22:24:12.715719Z"
    }
   },
   "outputs": [
    {
     "data": {
      "text/plain": [
       "770                   Ender's Shadow\n",
       "772                   Ender in Exile\n",
       "426             Speaker for the Dead\n",
       "408                Starship Troopers\n",
       "294                   The Glass Bees\n",
       "244        The Left Hand of Darkness\n",
       "878                         Brisingr\n",
       "659    Jonathan Strange & Mr Norrell\n",
       "119            The War of the Worlds\n",
       "460                   Shadow Puppets\n",
       "Name: title, dtype: object"
      ]
     },
     "execution_count": 37,
     "metadata": {},
     "output_type": "execute_result"
    }
   ],
   "source": [
    "# CV\n",
    "get_recommendations(\"Ender's Game\")"
   ]
  },
  {
   "cell_type": "code",
   "execution_count": 38,
   "metadata": {
    "ExecuteTime": {
     "end_time": "2018-07-04T22:24:12.875089Z",
     "start_time": "2018-07-04T22:24:12.865846Z"
    }
   },
   "outputs": [
    {
     "data": {
      "text/plain": [
       "408                                  Starship Troopers\n",
       "475                                         Roverandom\n",
       "245                              The Lays of Beleriand\n",
       "207    The Narrative of Arthur Gordon Pym of Nantucket\n",
       "754                                     Fahrenheit 451\n",
       "499                        Red Moon and Black Mountain\n",
       "165                                   The Silmarillion\n",
       "244                          The Left Hand of Darkness\n",
       "908                                     Atlas Shrugged\n",
       "359                             The Book of Lost Tales\n",
       "Name: title, dtype: object"
      ]
     },
     "execution_count": 38,
     "metadata": {},
     "output_type": "execute_result"
    }
   ],
   "source": [
    "# TF-IDF\n",
    "get_recommendations(\"The Hobbit\",cosine_sim2)"
   ]
  },
  {
   "cell_type": "code",
   "execution_count": 39,
   "metadata": {
    "ExecuteTime": {
     "end_time": "2018-07-04T22:24:13.025502Z",
     "start_time": "2018-07-04T22:24:13.016783Z"
    }
   },
   "outputs": [
    {
     "data": {
      "text/plain": [
       "408                                  Starship Troopers\n",
       "475                                         Roverandom\n",
       "207    The Narrative of Arthur Gordon Pym of Nantucket\n",
       "244                          The Left Hand of Darkness\n",
       "245                              The Lays of Beleriand\n",
       "754                                     Fahrenheit 451\n",
       "659                      Jonathan Strange & Mr Norrell\n",
       "165                                   The Silmarillion\n",
       "908                                     Atlas Shrugged\n",
       "499                        Red Moon and Black Mountain\n",
       "Name: title, dtype: object"
      ]
     },
     "execution_count": 39,
     "metadata": {},
     "output_type": "execute_result"
    }
   ],
   "source": [
    "# CV\n",
    "get_recommendations(\"The Hobbit\")"
   ]
  },
  {
   "cell_type": "code",
   "execution_count": 41,
   "metadata": {
    "ExecuteTime": {
     "end_time": "2018-07-05T19:09:39.388146Z",
     "start_time": "2018-07-05T19:09:39.378916Z"
    }
   },
   "outputs": [
    {
     "data": {
      "text/plain": [
       "591     Millroy the Magician\n",
       "271            The Hollowing\n",
       "475               Roverandom\n",
       "737            Forever Peace\n",
       "138      The Three Impostors\n",
       "286        The Great God Pan\n",
       "394    Synthetic Men of Mars\n",
       "938              Accelerando\n",
       "696     Hereafter, and After\n",
       "844        Close to Critical\n",
       "Name: title, dtype: object"
      ]
     },
     "execution_count": 41,
     "metadata": {},
     "output_type": "execute_result"
    }
   ],
   "source": [
    "get_recommendations(\"The Name of the Wind\",cosine_sim2)"
   ]
  },
  {
   "cell_type": "code",
   "execution_count": 42,
   "metadata": {
    "ExecuteTime": {
     "end_time": "2018-07-05T19:10:04.719411Z",
     "start_time": "2018-07-05T19:10:04.711720Z"
    }
   },
   "outputs": [
    {
     "data": {
      "text/plain": [
       "798                   Dorothea Dreams\n",
       "858              Children of Tomorrow\n",
       "776                         Emergence\n",
       "591              Millroy the Magician\n",
       "578           Mountain of Black Glass\n",
       "612                            Lurulu\n",
       "468               Sea of Silver Light\n",
       "600                   Masters of Time\n",
       "271                     The Hollowing\n",
       "576    Mr. Magorium's Wonder Emporium\n",
       "Name: title, dtype: object"
      ]
     },
     "execution_count": 42,
     "metadata": {},
     "output_type": "execute_result"
    }
   ],
   "source": [
    "get_recommendations(\"The Name of the Wind\")"
   ]
  },
  {
   "cell_type": "code",
   "execution_count": null,
   "metadata": {},
   "outputs": [],
   "source": []
  }
 ],
 "metadata": {
  "kernelspec": {
   "display_name": "Python 3",
   "language": "python",
   "name": "python3"
  },
  "language_info": {
   "codemirror_mode": {
    "name": "ipython",
    "version": 3
   },
   "file_extension": ".py",
   "mimetype": "text/x-python",
   "name": "python",
   "nbconvert_exporter": "python",
   "pygments_lexer": "ipython3",
   "version": "3.6.5"
  },
  "toc": {
   "nav_menu": {},
   "number_sections": true,
   "sideBar": true,
   "skip_h1_title": false,
   "toc_cell": false,
   "toc_position": {},
   "toc_section_display": "block",
   "toc_window_display": true
  }
 },
 "nbformat": 4,
 "nbformat_minor": 2
}
