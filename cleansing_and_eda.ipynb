{
 "cells": [
  {
   "cell_type": "code",
   "execution_count": 1,
   "metadata": {
    "ExecuteTime": {
     "end_time": "2018-07-05T14:59:28.670755Z",
     "start_time": "2018-07-05T14:59:20.850622Z"
    }
   },
   "outputs": [],
   "source": [
    "import pandas as pd\n",
    "import numpy as np\n",
    "import re\n",
    "\n",
    "%matplotlib inline\n",
    "import seaborn as sns\n",
    "import matplotlib.pyplot as plt\n",
    "sns.set_style('white')\n",
    "sns.set_palette('muted')\n",
    "\n",
    "# Pandas Settings\n",
    "import warnings\n",
    "warnings.filterwarnings(\"ignore\")\n",
    "pd.set_option('precision', 2)"
   ]
  },
  {
   "cell_type": "markdown",
   "metadata": {},
   "source": [
    "## Import and Cleanse"
   ]
  },
  {
   "cell_type": "code",
   "execution_count": 2,
   "metadata": {
    "ExecuteTime": {
     "end_time": "2018-07-05T14:59:28.835248Z",
     "start_time": "2018-07-05T14:59:28.672504Z"
    }
   },
   "outputs": [],
   "source": [
    "df = pd.read_csv('data/books.csv')"
   ]
  },
  {
   "cell_type": "code",
   "execution_count": 3,
   "metadata": {
    "ExecuteTime": {
     "end_time": "2018-07-05T14:59:28.856141Z",
     "start_time": "2018-07-05T14:59:28.837119Z"
    }
   },
   "outputs": [
    {
     "name": "stdout",
     "output_type": "stream",
     "text": [
      "<class 'pandas.core.frame.DataFrame'>\n",
      "RangeIndex: 1043 entries, 0 to 1042\n",
      "Data columns (total 59 columns):\n",
      "Unnamed: 0                1043 non-null int64\n",
      "\n",
      "Dewey Decimal\n",
      "           237 non-null object\n",
      "\n",
      "Publication date\n",
      "        873 non-null object\n",
      "\n",
      "Published in English\n",
      "    27 non-null object\n",
      "Alma mater                4 non-null object\n",
      "Artists                   1 non-null object\n",
      "Audio read by             49 non-null object\n",
      "Author                    1023 non-null object\n",
      "Authors                   1 non-null object\n",
      "Award                     13 non-null object\n",
      "Awards                    30 non-null object\n",
      "Born                      15 non-null object\n",
      "Children                  1 non-null object\n",
      "Citizenship               1 non-null object\n",
      "Colorist                  1 non-null object\n",
      "Country                   959 non-null object\n",
      "Cover artist              504 non-null object\n",
      "Date                      1 non-null object\n",
      "Date of publication       1 non-null object\n",
      "Died                      3 non-null object\n",
      "Editor                    5 non-null object\n",
      "Editors                   1 non-null object\n",
      "Education                 3 non-null object\n",
      "Followed by               503 non-null object\n",
      "Genre                     1003 non-null object\n",
      "ISBN                      639 non-null object\n",
      "Illustrator               118 non-null object\n",
      "Issues                    1 non-null float64\n",
      "LC Class                  293 non-null object\n",
      "Language                  987 non-null object\n",
      "Media type                891 non-null object\n",
      "Nationality               13 non-null object\n",
      "Notable awards            3 non-null object\n",
      "Notable works             1 non-null object\n",
      "OCLC                      562 non-null float64\n",
      "Occupation                15 non-null object\n",
      "Original title            52 non-null object\n",
      "Pages                     865 non-null object\n",
      "Pen name                  2 non-null object\n",
      "Period                    8 non-null object\n",
      "Preceded by               379 non-null object\n",
      "Publication date          4 non-null object\n",
      "Published                 135 non-null object\n",
      "Published in              1 non-null object\n",
      "Publisher                 883 non-null object\n",
      "Series                    460 non-null object\n",
      "Set in                    3 non-null object\n",
      "Spouse                    2 non-null object\n",
      "Subject                   12 non-null object\n",
      "Summary                   1043 non-null object\n",
      "Text                      6 non-null object\n",
      "Title                     1026 non-null object\n",
      "Translator                20 non-null object\n",
      "Website                   4 non-null object\n",
      "Working title             1 non-null object\n",
      "Writers                   1 non-null object\n",
      "ratings_text              58 non-null object\n",
      "ratings_count             66 non-null object\n",
      "product_url               90 non-null object\n",
      "dtypes: float64(2), int64(1), object(56)\n",
      "memory usage: 480.8+ KB\n"
     ]
    }
   ],
   "source": [
    "df.info()"
   ]
  },
  {
   "cell_type": "code",
   "execution_count": 4,
   "metadata": {
    "ExecuteTime": {
     "end_time": "2018-07-05T14:59:28.862571Z",
     "start_time": "2018-07-05T14:59:28.857998Z"
    }
   },
   "outputs": [],
   "source": [
    "df.columns = df.columns.str.lower()\n",
    "df.columns = df.columns.str.replace(' ','_')"
   ]
  },
  {
   "cell_type": "code",
   "execution_count": 5,
   "metadata": {
    "ExecuteTime": {
     "end_time": "2018-07-05T14:59:28.872240Z",
     "start_time": "2018-07-05T14:59:28.865315Z"
    }
   },
   "outputs": [],
   "source": [
    "keep = ['author', 'country','genre','isbn','language','pages',\n",
    "        'publisher','summary','title','ratings_text','ratings_count','product_url']"
   ]
  },
  {
   "cell_type": "code",
   "execution_count": 6,
   "metadata": {
    "ExecuteTime": {
     "end_time": "2018-07-05T14:59:28.883385Z",
     "start_time": "2018-07-05T14:59:28.875196Z"
    }
   },
   "outputs": [],
   "source": [
    "df = df[keep]"
   ]
  },
  {
   "cell_type": "code",
   "execution_count": 7,
   "metadata": {
    "ExecuteTime": {
     "end_time": "2018-07-05T14:59:28.897159Z",
     "start_time": "2018-07-05T14:59:28.885177Z"
    }
   },
   "outputs": [
    {
     "data": {
      "text/plain": [
       "(1043, 12)"
      ]
     },
     "execution_count": 7,
     "metadata": {},
     "output_type": "execute_result"
    }
   ],
   "source": [
    "df.shape"
   ]
  },
  {
   "cell_type": "code",
   "execution_count": 8,
   "metadata": {
    "ExecuteTime": {
     "end_time": "2018-07-05T14:59:28.921861Z",
     "start_time": "2018-07-05T14:59:28.899557Z"
    }
   },
   "outputs": [
    {
     "data": {
      "text/html": [
       "<div>\n",
       "<style scoped>\n",
       "    .dataframe tbody tr th:only-of-type {\n",
       "        vertical-align: middle;\n",
       "    }\n",
       "\n",
       "    .dataframe tbody tr th {\n",
       "        vertical-align: top;\n",
       "    }\n",
       "\n",
       "    .dataframe thead th {\n",
       "        text-align: right;\n",
       "    }\n",
       "</style>\n",
       "<table border=\"1\" class=\"dataframe\">\n",
       "  <thead>\n",
       "    <tr style=\"text-align: right;\">\n",
       "      <th></th>\n",
       "      <th>author</th>\n",
       "      <th>country</th>\n",
       "      <th>genre</th>\n",
       "      <th>isbn</th>\n",
       "      <th>language</th>\n",
       "      <th>pages</th>\n",
       "      <th>publisher</th>\n",
       "      <th>summary</th>\n",
       "      <th>title</th>\n",
       "      <th>ratings_text</th>\n",
       "      <th>ratings_count</th>\n",
       "      <th>product_url</th>\n",
       "    </tr>\n",
       "  </thead>\n",
       "  <tbody>\n",
       "    <tr>\n",
       "      <th>0</th>\n",
       "      <td>David Anthony Durham</td>\n",
       "      <td>United States</td>\n",
       "      <td>Fantasy fiction novel</td>\n",
       "      <td>0-385-50606-6</td>\n",
       "      <td>English</td>\n",
       "      <td>592 pp</td>\n",
       "      <td>Doubleday</td>\n",
       "      <td>Acacia: The War with the Mein is a 2007 novel ...</td>\n",
       "      <td>Acacia: The War with the Mein</td>\n",
       "      <td>NaN</td>\n",
       "      <td>NaN</td>\n",
       "      <td>NaN</td>\n",
       "    </tr>\n",
       "    <tr>\n",
       "      <th>1</th>\n",
       "      <td>Sir Henry Newbolt</td>\n",
       "      <td>United Kingdom</td>\n",
       "      <td>Fantasy novel</td>\n",
       "      <td>NaN</td>\n",
       "      <td>English</td>\n",
       "      <td>362 pp.</td>\n",
       "      <td>William Blackwood and Sons</td>\n",
       "      <td>Aladore is a classic allegorical fantasy novel...</td>\n",
       "      <td>Aladore</td>\n",
       "      <td>NaN</td>\n",
       "      <td>NaN</td>\n",
       "      <td>NaN</td>\n",
       "    </tr>\n",
       "    <tr>\n",
       "      <th>2</th>\n",
       "      <td>Lewis Carroll</td>\n",
       "      <td>United Kingdom</td>\n",
       "      <td>Fiction</td>\n",
       "      <td>NaN</td>\n",
       "      <td>English</td>\n",
       "      <td>NaN</td>\n",
       "      <td>Macmillan</td>\n",
       "      <td>Alice's Adventures in Wonderland (commonly sho...</td>\n",
       "      <td>Alice's Adventures in Wonderland</td>\n",
       "      <td>NaN</td>\n",
       "      <td>NaN</td>\n",
       "      <td>https://www.amazon.com/3dRose-mug_193746_1-Nan...</td>\n",
       "    </tr>\n",
       "    <tr>\n",
       "      <th>3</th>\n",
       "      <td>Patricia A. McKillip</td>\n",
       "      <td>United States</td>\n",
       "      <td>Fantasy novel</td>\n",
       "      <td>0-441-01130-6 (first edition, hardback)</td>\n",
       "      <td>English</td>\n",
       "      <td>314 (first edition, hardback)</td>\n",
       "      <td>Ace Books</td>\n",
       "      <td>Alphabet of Thorn is a 2004 fantasy novel writ...</td>\n",
       "      <td>Alphabet of Thorn</td>\n",
       "      <td>NaN</td>\n",
       "      <td>NaN</td>\n",
       "      <td>NaN</td>\n",
       "    </tr>\n",
       "    <tr>\n",
       "      <th>4</th>\n",
       "      <td>Michael Chabon</td>\n",
       "      <td>United States</td>\n",
       "      <td>Historical fiction</td>\n",
       "      <td>0-679-45004-1</td>\n",
       "      <td>English</td>\n",
       "      <td>639 pp</td>\n",
       "      <td>Random House</td>\n",
       "      <td>The Amazing Adventures of Kavalier &amp; Clay is a...</td>\n",
       "      <td>The Amazing Adventures of Kavalier &amp; Clay</td>\n",
       "      <td>NaN</td>\n",
       "      <td>NaN</td>\n",
       "      <td>NaN</td>\n",
       "    </tr>\n",
       "  </tbody>\n",
       "</table>\n",
       "</div>"
      ],
      "text/plain": [
       "                 author         country                  genre  \\\n",
       "0  David Anthony Durham   United States  Fantasy fiction novel   \n",
       "1     Sir Henry Newbolt  United Kingdom          Fantasy novel   \n",
       "2         Lewis Carroll  United Kingdom                Fiction   \n",
       "3  Patricia A. McKillip   United States          Fantasy novel   \n",
       "4        Michael Chabon   United States     Historical fiction   \n",
       "\n",
       "                                      isbn language  \\\n",
       "0                            0-385-50606-6  English   \n",
       "1                                      NaN  English   \n",
       "2                                      NaN  English   \n",
       "3  0-441-01130-6 (first edition, hardback)  English   \n",
       "4                            0-679-45004-1  English   \n",
       "\n",
       "                           pages                   publisher  \\\n",
       "0                         592 pp                   Doubleday   \n",
       "1                        362 pp.  William Blackwood and Sons   \n",
       "2                            NaN                   Macmillan   \n",
       "3  314 (first edition, hardback)                   Ace Books   \n",
       "4                         639 pp                Random House   \n",
       "\n",
       "                                             summary  \\\n",
       "0  Acacia: The War with the Mein is a 2007 novel ...   \n",
       "1  Aladore is a classic allegorical fantasy novel...   \n",
       "2  Alice's Adventures in Wonderland (commonly sho...   \n",
       "3  Alphabet of Thorn is a 2004 fantasy novel writ...   \n",
       "4  The Amazing Adventures of Kavalier & Clay is a...   \n",
       "\n",
       "                                       title ratings_text ratings_count  \\\n",
       "0              Acacia: The War with the Mein          NaN           NaN   \n",
       "1                                    Aladore          NaN           NaN   \n",
       "2           Alice's Adventures in Wonderland          NaN           NaN   \n",
       "3                          Alphabet of Thorn          NaN           NaN   \n",
       "4  The Amazing Adventures of Kavalier & Clay          NaN           NaN   \n",
       "\n",
       "                                         product_url  \n",
       "0                                                NaN  \n",
       "1                                                NaN  \n",
       "2  https://www.amazon.com/3dRose-mug_193746_1-Nan...  \n",
       "3                                                NaN  \n",
       "4                                                NaN  "
      ]
     },
     "execution_count": 8,
     "metadata": {},
     "output_type": "execute_result"
    }
   ],
   "source": [
    "df.head()"
   ]
  },
  {
   "cell_type": "markdown",
   "metadata": {},
   "source": [
    "### Pages"
   ]
  },
  {
   "cell_type": "code",
   "execution_count": 9,
   "metadata": {
    "ExecuteTime": {
     "end_time": "2018-07-05T14:59:28.974378Z",
     "start_time": "2018-07-05T14:59:28.924030Z"
    }
   },
   "outputs": [],
   "source": [
    "df['pages'] = df['pages'].str.extract('(\\d+)')"
   ]
  },
  {
   "cell_type": "code",
   "execution_count": 10,
   "metadata": {
    "ExecuteTime": {
     "end_time": "2018-07-05T14:59:28.981893Z",
     "start_time": "2018-07-05T14:59:28.976805Z"
    }
   },
   "outputs": [],
   "source": [
    "df['pages'] = pd.to_numeric(df['pages'], errors='coerce')"
   ]
  },
  {
   "cell_type": "code",
   "execution_count": 11,
   "metadata": {
    "ExecuteTime": {
     "end_time": "2018-07-05T14:59:28.987791Z",
     "start_time": "2018-07-05T14:59:28.984583Z"
    }
   },
   "outputs": [],
   "source": [
    "df.pages.fillna(0,inplace=True)"
   ]
  },
  {
   "cell_type": "code",
   "execution_count": 12,
   "metadata": {
    "ExecuteTime": {
     "end_time": "2018-07-05T14:59:28.994684Z",
     "start_time": "2018-07-05T14:59:28.989757Z"
    }
   },
   "outputs": [],
   "source": [
    "df['pages'] = df.pages.astype(int)"
   ]
  },
  {
   "cell_type": "code",
   "execution_count": 13,
   "metadata": {
    "ExecuteTime": {
     "end_time": "2018-07-05T14:59:29.007448Z",
     "start_time": "2018-07-05T14:59:28.996820Z"
    }
   },
   "outputs": [
    {
     "name": "stdout",
     "output_type": "stream",
     "text": [
      "<class 'pandas.core.frame.DataFrame'>\n",
      "RangeIndex: 1043 entries, 0 to 1042\n",
      "Data columns (total 12 columns):\n",
      "author           1023 non-null object\n",
      "country          959 non-null object\n",
      "genre            1003 non-null object\n",
      "isbn             639 non-null object\n",
      "language         987 non-null object\n",
      "pages            1043 non-null int64\n",
      "publisher        883 non-null object\n",
      "summary          1043 non-null object\n",
      "title            1026 non-null object\n",
      "ratings_text     58 non-null object\n",
      "ratings_count    66 non-null object\n",
      "product_url      90 non-null object\n",
      "dtypes: int64(1), object(11)\n",
      "memory usage: 97.9+ KB\n"
     ]
    }
   ],
   "source": [
    "df.info()"
   ]
  },
  {
   "cell_type": "markdown",
   "metadata": {},
   "source": [
    "### Ratings"
   ]
  },
  {
   "cell_type": "code",
   "execution_count": 14,
   "metadata": {
    "ExecuteTime": {
     "end_time": "2018-07-05T14:59:29.017572Z",
     "start_time": "2018-07-05T14:59:29.009600Z"
    }
   },
   "outputs": [],
   "source": [
    "df['clean_rating'] = df['ratings_text'].str.extract('(\\d.\\d)')"
   ]
  },
  {
   "cell_type": "code",
   "execution_count": 15,
   "metadata": {
    "ExecuteTime": {
     "end_time": "2018-07-05T14:59:29.025355Z",
     "start_time": "2018-07-05T14:59:29.019679Z"
    }
   },
   "outputs": [],
   "source": [
    "df['clean_rating'] = df.clean_rating.fillna(0)"
   ]
  },
  {
   "cell_type": "code",
   "execution_count": 16,
   "metadata": {
    "ExecuteTime": {
     "end_time": "2018-07-05T14:59:29.033096Z",
     "start_time": "2018-07-05T14:59:29.028618Z"
    }
   },
   "outputs": [],
   "source": [
    "df['clean_rating'] = df.clean_rating.astype(float)"
   ]
  },
  {
   "cell_type": "code",
   "execution_count": 17,
   "metadata": {
    "ExecuteTime": {
     "end_time": "2018-07-05T14:59:29.071696Z",
     "start_time": "2018-07-05T14:59:29.035514Z"
    }
   },
   "outputs": [],
   "source": [
    "df['clean_rating_count'] = df.ratings_count.fillna(0)"
   ]
  },
  {
   "cell_type": "code",
   "execution_count": 18,
   "metadata": {
    "ExecuteTime": {
     "end_time": "2018-07-05T14:59:29.081482Z",
     "start_time": "2018-07-05T14:59:29.073825Z"
    }
   },
   "outputs": [
    {
     "data": {
      "text/plain": [
       "0        977\n",
       "1         13\n",
       "98         3\n",
       "85         2\n",
       "62         2\n",
       "84         2\n",
       "38         2\n",
       "4          2\n",
       "46         1\n",
       "193        1\n",
       "136        1\n",
       "206        1\n",
       "2          1\n",
       "13         1\n",
       "1,834      1\n",
       "409        1\n",
       "704        1\n",
       "459        1\n",
       "48         1\n",
       "428        1\n",
       "81         1\n",
       "116        1\n",
       "122        1\n",
       "173        1\n",
       "433        1\n",
       "1,811      1\n",
       "23         1\n",
       "5,334      1\n",
       "165        1\n",
       "1,253      1\n",
       "348        1\n",
       "88         1\n",
       "51         1\n",
       "45         1\n",
       "133        1\n",
       "1,520      1\n",
       "299        1\n",
       "587        1\n",
       "127        1\n",
       "1,835      1\n",
       "1,034      1\n",
       "58         1\n",
       "179        1\n",
       "35         1\n",
       "194        1\n",
       "798        1\n",
       "18         1\n",
       "78         1\n",
       "Name: clean_rating_count, dtype: int64"
      ]
     },
     "execution_count": 18,
     "metadata": {},
     "output_type": "execute_result"
    }
   ],
   "source": [
    "df.clean_rating_count.value_counts()"
   ]
  },
  {
   "cell_type": "code",
   "execution_count": 19,
   "metadata": {
    "ExecuteTime": {
     "end_time": "2018-07-05T14:59:29.089341Z",
     "start_time": "2018-07-05T14:59:29.083740Z"
    }
   },
   "outputs": [],
   "source": [
    "df['clean_rating_count'] = df.clean_rating_count.str.replace(',','')"
   ]
  },
  {
   "cell_type": "code",
   "execution_count": 20,
   "metadata": {
    "ExecuteTime": {
     "end_time": "2018-07-05T14:59:29.095462Z",
     "start_time": "2018-07-05T14:59:29.091730Z"
    }
   },
   "outputs": [],
   "source": [
    "df['clean_rating_count'] = df.clean_rating_count.astype(float)"
   ]
  },
  {
   "cell_type": "code",
   "execution_count": 21,
   "metadata": {
    "ExecuteTime": {
     "end_time": "2018-07-05T14:59:29.102736Z",
     "start_time": "2018-07-05T14:59:29.097632Z"
    }
   },
   "outputs": [],
   "source": [
    "df.drop(['ratings_text','ratings_count'],axis=1,inplace=True)"
   ]
  },
  {
   "cell_type": "markdown",
   "metadata": {},
   "source": [
    "### Genres"
   ]
  },
  {
   "cell_type": "markdown",
   "metadata": {},
   "source": [
    "Since There are so many genres here I am just going to keep it sime and say that any genre that contains the words Science Fiction should be set to science fiction genre, everything else will be set to Fantasy. \n",
    "\n",
    "I am choosing to do this since I scraped the wikipedia Science Fiction and Fantasy lists for these books."
   ]
  },
  {
   "cell_type": "code",
   "execution_count": 22,
   "metadata": {
    "ExecuteTime": {
     "end_time": "2018-07-05T14:59:29.113291Z",
     "start_time": "2018-07-05T14:59:29.105334Z"
    }
   },
   "outputs": [
    {
     "data": {
      "text/plain": [
       "Science fiction             334\n",
       "Science fiction novel       116\n",
       "Fantasy                      81\n",
       "Fantasy novel                56\n",
       "Science fantasy              36\n",
       "Epic fantasy                 11\n",
       "science-fiction novel        10\n",
       "Military science fiction      9\n",
       "science fiction               7\n",
       "Comic science fiction         6\n",
       "Name: genre, dtype: int64"
      ]
     },
     "execution_count": 22,
     "metadata": {},
     "output_type": "execute_result"
    }
   ],
   "source": [
    "df.genre.value_counts()[:10]"
   ]
  },
  {
   "cell_type": "code",
   "execution_count": 23,
   "metadata": {
    "ExecuteTime": {
     "end_time": "2018-07-05T14:59:29.119394Z",
     "start_time": "2018-07-05T14:59:29.115496Z"
    }
   },
   "outputs": [],
   "source": [
    "df['genre'] = df.genre.fillna('None')"
   ]
  },
  {
   "cell_type": "code",
   "execution_count": 24,
   "metadata": {
    "ExecuteTime": {
     "end_time": "2018-07-05T14:59:29.125322Z",
     "start_time": "2018-07-05T14:59:29.121910Z"
    }
   },
   "outputs": [],
   "source": [
    "def replace_genre(s):\n",
    "    s = s.lower()\n",
    "    if 'science' in s and 'fiction' in s:\n",
    "        return 'Science Fiction'\n",
    "    elif 'none' in s:\n",
    "        return 'No Genre'\n",
    "    else:\n",
    "        return 'Fantasy'"
   ]
  },
  {
   "cell_type": "code",
   "execution_count": 25,
   "metadata": {
    "ExecuteTime": {
     "end_time": "2018-07-05T14:59:29.132152Z",
     "start_time": "2018-07-05T14:59:29.127632Z"
    }
   },
   "outputs": [],
   "source": [
    "df['genre'] = df.genre.apply(replace_genre)"
   ]
  },
  {
   "cell_type": "code",
   "execution_count": 26,
   "metadata": {
    "ExecuteTime": {
     "end_time": "2018-07-05T14:59:29.141459Z",
     "start_time": "2018-07-05T14:59:29.134443Z"
    }
   },
   "outputs": [
    {
     "data": {
      "text/plain": [
       "Science Fiction    628\n",
       "Fantasy            375\n",
       "No Genre            40\n",
       "Name: genre, dtype: int64"
      ]
     },
     "execution_count": 26,
     "metadata": {},
     "output_type": "execute_result"
    }
   ],
   "source": [
    "df.genre.value_counts()"
   ]
  },
  {
   "cell_type": "markdown",
   "metadata": {},
   "source": [
    "### Duplicates"
   ]
  },
  {
   "cell_type": "markdown",
   "metadata": {},
   "source": [
    "I am dropping any rows that are missing the author or title as those are going to be very important for my recommendation engine."
   ]
  },
  {
   "cell_type": "code",
   "execution_count": 27,
   "metadata": {
    "ExecuteTime": {
     "end_time": "2018-07-05T14:59:29.150506Z",
     "start_time": "2018-07-05T14:59:29.143711Z"
    }
   },
   "outputs": [],
   "source": [
    "df = df.dropna(subset=['title','author'])"
   ]
  },
  {
   "cell_type": "markdown",
   "metadata": {},
   "source": [
    "I do not want books duplicate titles so I will see if there are any duplicates and chose which to keep."
   ]
  },
  {
   "cell_type": "code",
   "execution_count": 28,
   "metadata": {
    "ExecuteTime": {
     "end_time": "2018-07-05T14:59:29.160941Z",
     "start_time": "2018-07-05T14:59:29.152751Z"
    }
   },
   "outputs": [
    {
     "data": {
      "text/plain": [
       "False    965\n",
       "True      56\n",
       "Name: title, dtype: int64"
      ]
     },
     "execution_count": 28,
     "metadata": {},
     "output_type": "execute_result"
    }
   ],
   "source": [
    "df.title.duplicated().value_counts()"
   ]
  },
  {
   "cell_type": "code",
   "execution_count": 29,
   "metadata": {
    "ExecuteTime": {
     "end_time": "2018-07-05T14:59:29.205548Z",
     "start_time": "2018-07-05T14:59:29.163139Z"
    }
   },
   "outputs": [],
   "source": [
    "df.sort_values(by=['title','clean_rating_count'],ascending= False,inplace=True)"
   ]
  },
  {
   "cell_type": "code",
   "execution_count": 30,
   "metadata": {
    "ExecuteTime": {
     "end_time": "2018-07-05T14:59:29.214418Z",
     "start_time": "2018-07-05T14:59:29.206905Z"
    }
   },
   "outputs": [],
   "source": [
    "df.drop_duplicates(subset=['title'],keep='first',inplace=True)"
   ]
  },
  {
   "cell_type": "markdown",
   "metadata": {},
   "source": [
    "## Exploratory Data Analysis"
   ]
  },
  {
   "cell_type": "markdown",
   "metadata": {},
   "source": [
    "### Number of Pages"
   ]
  },
  {
   "cell_type": "code",
   "execution_count": 31,
   "metadata": {
    "ExecuteTime": {
     "end_time": "2018-07-05T14:59:29.220415Z",
     "start_time": "2018-07-05T14:59:29.216384Z"
    }
   },
   "outputs": [],
   "source": [
    "bins = int(np.sqrt(len(df)))"
   ]
  },
  {
   "cell_type": "code",
   "execution_count": 32,
   "metadata": {
    "ExecuteTime": {
     "end_time": "2018-07-05T14:59:29.615985Z",
     "start_time": "2018-07-05T14:59:29.224238Z"
    }
   },
   "outputs": [
    {
     "data": {
      "image/png": "[encoded data removed]",
      "text/plain": [
       "<Figure size 432x288 with 1 Axes>"
      ]
     },
     "metadata": {},
     "output_type": "display_data"
    }
   ],
   "source": [
    "df.pages.hist(bins = bins)\n",
    "plt.title('Number of Pages Per Book')\n",
    "plt.margins(.02);"
   ]
  },
  {
   "cell_type": "code",
   "execution_count": 33,
   "metadata": {
    "ExecuteTime": {
     "end_time": "2018-07-05T14:59:29.628614Z",
     "start_time": "2018-07-05T14:59:29.618406Z"
    }
   },
   "outputs": [
    {
     "data": {
      "text/plain": [
       "count     965.00\n",
       "mean      273.02\n",
       "std       194.38\n",
       "min         0.00\n",
       "25%       160.00\n",
       "50%       254.00\n",
       "75%       368.00\n",
       "max      1168.00\n",
       "Name: pages, dtype: float64"
      ]
     },
     "execution_count": 33,
     "metadata": {},
     "output_type": "execute_result"
    }
   ],
   "source": [
    "df.pages.describe()"
   ]
  },
  {
   "cell_type": "code",
   "execution_count": 34,
   "metadata": {
    "ExecuteTime": {
     "end_time": "2018-07-05T14:59:29.638113Z",
     "start_time": "2018-07-05T14:59:29.630540Z"
    }
   },
   "outputs": [
    {
     "data": {
      "text/plain": [
       "0     155\n",
       "7       1\n",
       "30      1\n",
       "46      1\n",
       "47      1\n",
       "Name: pages, dtype: int64"
      ]
     },
     "execution_count": 34,
     "metadata": {},
     "output_type": "execute_result"
    }
   ],
   "source": [
    "df.pages.value_counts().sort_index()[:5]"
   ]
  },
  {
   "cell_type": "markdown",
   "metadata": {},
   "source": [
    "### Top Books by Author"
   ]
  },
  {
   "cell_type": "code",
   "execution_count": 35,
   "metadata": {
    "ExecuteTime": {
     "end_time": "2018-07-05T14:59:29.647861Z",
     "start_time": "2018-07-05T14:59:29.640480Z"
    }
   },
   "outputs": [],
   "source": [
    "top_authors = df.author.value_counts().sort_values(ascending=False)[:15].reset_index()\n",
    "top_authors.columns = ['author','count']"
   ]
  },
  {
   "cell_type": "code",
   "execution_count": 36,
   "metadata": {
    "ExecuteTime": {
     "end_time": "2018-07-05T14:59:29.824863Z",
     "start_time": "2018-07-05T14:59:29.650754Z"
    }
   },
   "outputs": [
    {
     "data": {
      "image/png": "[encoded data removed]",
      "text/plain": [
       "<Figure size 432x288 with 1 Axes>"
      ]
     },
     "metadata": {},
     "output_type": "display_data"
    }
   ],
   "source": [
    "sns.barplot(x = 'count',y='author',data=top_authors)\n",
    "plt.xlabel('Number of Books')\n",
    "plt.ylabel('');"
   ]
  },
  {
   "cell_type": "markdown",
   "metadata": {},
   "source": [
    "### Ratings Distribution"
   ]
  },
  {
   "cell_type": "code",
   "execution_count": 37,
   "metadata": {
    "ExecuteTime": {
     "end_time": "2018-07-05T14:59:29.926620Z",
     "start_time": "2018-07-05T14:59:29.827875Z"
    }
   },
   "outputs": [
    {
     "data": {
      "image/png": "[encoded data removed]",
      "text/plain": [
       "<Figure size 432x288 with 1 Axes>"
      ]
     },
     "metadata": {},
     "output_type": "display_data"
    }
   ],
   "source": [
    "df.clean_rating.hist()\n",
    "plt.margins(.02)\n",
    "plt.title('Ratings Score Per Book');"
   ]
  },
  {
   "cell_type": "code",
   "execution_count": 38,
   "metadata": {
    "ExecuteTime": {
     "end_time": "2018-07-05T14:59:30.094044Z",
     "start_time": "2018-07-05T14:59:29.928885Z"
    }
   },
   "outputs": [
    {
     "data": {
      "text/plain": [
       "Text(0.5,1,'Number of Ratings Per Book')"
      ]
     },
     "execution_count": 38,
     "metadata": {},
     "output_type": "execute_result"
    },
    {
     "data": {
      "image/png": "[encoded data removed]",
      "text/plain": [
       "<Figure size 432x288 with 1 Axes>"
      ]
     },
     "metadata": {},
     "output_type": "display_data"
    }
   ],
   "source": [
    "df.clean_rating_count.hist(bins=bins)\n",
    "plt.margins(.02)\n",
    "plt.title('Number of Ratings Per Book')"
   ]
  },
  {
   "cell_type": "markdown",
   "metadata": {},
   "source": [
    "It looks like the majority of the books do not actually have ratings so I probably won't use these two features in the recommendation engine."
   ]
  },
  {
   "cell_type": "markdown",
   "metadata": {},
   "source": [
    "### Genres"
   ]
  },
  {
   "cell_type": "code",
   "execution_count": 39,
   "metadata": {
    "ExecuteTime": {
     "end_time": "2018-07-05T14:59:30.101433Z",
     "start_time": "2018-07-05T14:59:30.096025Z"
    }
   },
   "outputs": [],
   "source": [
    "genre_group = df.genre.value_counts().sort_values(ascending=False)"
   ]
  },
  {
   "cell_type": "code",
   "execution_count": 40,
   "metadata": {
    "ExecuteTime": {
     "end_time": "2018-07-05T14:59:30.198268Z",
     "start_time": "2018-07-05T14:59:30.103563Z"
    }
   },
   "outputs": [
    {
     "data": {
      "image/png": "[encoded data removed]",
      "text/plain": [
       "<Figure size 432x288 with 1 Axes>"
      ]
     },
     "metadata": {},
     "output_type": "display_data"
    }
   ],
   "source": [
    "sns.barplot(y=genre_group.index, x=genre_group.values)\n",
    "plt.xlabel('Number of Books')\n",
    "plt.ylabel('');"
   ]
  },
  {
   "cell_type": "markdown",
   "metadata": {},
   "source": [
    "So it looks like we have a majority of our data is science fiction, many of the book recommendations will probably skew to science fiction then."
   ]
  },
  {
   "cell_type": "markdown",
   "metadata": {},
   "source": [
    "Now I am going to export the cleaned data and create the recommendation engine in a separate notebook."
   ]
  },
  {
   "cell_type": "code",
   "execution_count": 41,
   "metadata": {
    "ExecuteTime": {
     "end_time": "2018-07-05T14:59:30.340593Z",
     "start_time": "2018-07-05T14:59:30.200333Z"
    }
   },
   "outputs": [],
   "source": [
    "df.to_csv('data/cleaned_books.csv')"
   ]
  },
  {
   "cell_type": "code",
   "execution_count": null,
   "metadata": {},
   "outputs": [],
   "source": []
  }
 ],
 "metadata": {
  "kernelspec": {
   "display_name": "Python 3",
   "language": "python",
   "name": "python3"
  },
  "language_info": {
   "codemirror_mode": {
    "name": "ipython",
    "version": 3
   },
   "file_extension": ".py",
   "mimetype": "text/x-python",
   "name": "python",
   "nbconvert_exporter": "python",
   "pygments_lexer": "ipython3",
   "version": "3.6.5"
  },
  "toc": {
   "nav_menu": {},
   "number_sections": true,
   "sideBar": true,
   "skip_h1_title": false,
   "toc_cell": false,
   "toc_position": {},
   "toc_section_display": "block",
   "toc_window_display": true
  }
 },
 "nbformat": 4,
 "nbformat_minor": 2
}
