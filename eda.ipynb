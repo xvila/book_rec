{
 "cells": [
  {
   "cell_type": "code",
   "execution_count": 1,
   "metadata": {
    "ExecuteTime": {
     "end_time": "2018-06-09T18:12:29.165092Z",
     "start_time": "2018-06-09T18:12:26.098686Z"
    }
   },
   "outputs": [],
   "source": [
    "import pandas as pd\n",
    "import numpy as np\n",
    "import re\n",
    "\n",
    "%matplotlib inline\n",
    "import seaborn as sns\n",
    "import matplotlib.pyplot as plt\n",
    "sns.set()"
   ]
  },
  {
   "cell_type": "code",
   "execution_count": 2,
   "metadata": {
    "ExecuteTime": {
     "end_time": "2018-06-09T18:12:29.369752Z",
     "start_time": "2018-06-09T18:12:29.171654Z"
    }
   },
   "outputs": [],
   "source": [
    "df = pd.read_csv('data/books.csv')"
   ]
  },
  {
   "cell_type": "code",
   "execution_count": 3,
   "metadata": {
    "ExecuteTime": {
     "end_time": "2018-06-09T18:12:29.383980Z",
     "start_time": "2018-06-09T18:12:29.371573Z"
    }
   },
   "outputs": [
    {
     "name": "stdout",
     "output_type": "stream",
     "text": [
      "<class 'pandas.core.frame.DataFrame'>\n",
      "RangeIndex: 1041 entries, 0 to 1040\n",
      "Data columns (total 55 columns):\n",
      "Unnamed: 0                1041 non-null int64\n",
      "\n",
      "Dewey Decimal\n",
      "           236 non-null object\n",
      "\n",
      "Publication date\n",
      "        876 non-null object\n",
      "\n",
      "Published in English\n",
      "    27 non-null object\n",
      "Alma mater                4 non-null object\n",
      "Artists                   1 non-null object\n",
      "Audio read by             49 non-null object\n",
      "Author                    1021 non-null object\n",
      "Authors                   1 non-null object\n",
      "Award                     13 non-null object\n",
      "Awards                    30 non-null object\n",
      "Born                      15 non-null object\n",
      "Children                  1 non-null object\n",
      "Citizenship               1 non-null object\n",
      "Colorist                  1 non-null object\n",
      "Country                   957 non-null object\n",
      "Cover artist              503 non-null object\n",
      "Date                      1 non-null object\n",
      "Date of publication       1 non-null object\n",
      "Died                      3 non-null object\n",
      "Editor                    5 non-null object\n",
      "Editors                   1 non-null object\n",
      "Education                 3 non-null object\n",
      "Followed by               501 non-null object\n",
      "Genre                     1001 non-null object\n",
      "ISBN                      637 non-null object\n",
      "Illustrator               117 non-null object\n",
      "Issues                    1 non-null float64\n",
      "LC Class                  292 non-null object\n",
      "Language                  988 non-null object\n",
      "Media type                890 non-null object\n",
      "Nationality               13 non-null object\n",
      "Notable awards            3 non-null object\n",
      "Notable works             1 non-null object\n",
      "OCLC                      561 non-null float64\n",
      "Occupation                15 non-null object\n",
      "Original title            51 non-null object\n",
      "Pages                     863 non-null object\n",
      "Pen name                  2 non-null object\n",
      "Period                    8 non-null object\n",
      "Preceded by               379 non-null object\n",
      "Published                 134 non-null object\n",
      "Published in              1 non-null object\n",
      "Publisher                 882 non-null object\n",
      "Series                    459 non-null object\n",
      "Set in                    3 non-null object\n",
      "Spouse                    2 non-null object\n",
      "Subject                   11 non-null object\n",
      "Summary                   1041 non-null object\n",
      "Text                      6 non-null object\n",
      "Title                     1024 non-null object\n",
      "Translator                19 non-null object\n",
      "Website                   4 non-null object\n",
      "Working title             1 non-null object\n",
      "Writers                   1 non-null object\n",
      "dtypes: float64(2), int64(1), object(52)\n",
      "memory usage: 447.4+ KB\n"
     ]
    }
   ],
   "source": [
    "df.info()"
   ]
  },
  {
   "cell_type": "code",
   "execution_count": 4,
   "metadata": {
    "ExecuteTime": {
     "end_time": "2018-06-09T18:12:29.392200Z",
     "start_time": "2018-06-09T18:12:29.386000Z"
    }
   },
   "outputs": [],
   "source": [
    "df.columns = df.columns.str.lower()\n",
    "df.columns = df.columns.str.replace(' ','_')"
   ]
  },
  {
   "cell_type": "code",
   "execution_count": 5,
   "metadata": {
    "ExecuteTime": {
     "end_time": "2018-06-09T18:12:29.397363Z",
     "start_time": "2018-06-09T18:12:29.394324Z"
    }
   },
   "outputs": [],
   "source": [
    "keep = ['author', 'country','genre','isbn','language','pages',\n",
    "        'publisher','summary','title']"
   ]
  },
  {
   "cell_type": "code",
   "execution_count": 6,
   "metadata": {
    "ExecuteTime": {
     "end_time": "2018-06-09T18:12:29.404778Z",
     "start_time": "2018-06-09T18:12:29.399527Z"
    }
   },
   "outputs": [],
   "source": [
    "df = df[keep]"
   ]
  },
  {
   "cell_type": "code",
   "execution_count": 7,
   "metadata": {
    "ExecuteTime": {
     "end_time": "2018-06-09T18:12:29.412923Z",
     "start_time": "2018-06-09T18:12:29.407039Z"
    }
   },
   "outputs": [
    {
     "data": {
      "text/plain": [
       "(1041, 9)"
      ]
     },
     "execution_count": 7,
     "metadata": {},
     "output_type": "execute_result"
    }
   ],
   "source": [
    "df.shape"
   ]
  },
  {
   "cell_type": "code",
   "execution_count": 8,
   "metadata": {
    "ExecuteTime": {
     "end_time": "2018-06-09T18:12:29.435133Z",
     "start_time": "2018-06-09T18:12:29.415761Z"
    }
   },
   "outputs": [
    {
     "data": {
      "text/html": [
       "<div>\n",
       "<style scoped>\n",
       "    .dataframe tbody tr th:only-of-type {\n",
       "        vertical-align: middle;\n",
       "    }\n",
       "\n",
       "    .dataframe tbody tr th {\n",
       "        vertical-align: top;\n",
       "    }\n",
       "\n",
       "    .dataframe thead th {\n",
       "        text-align: right;\n",
       "    }\n",
       "</style>\n",
       "<table border=\"1\" class=\"dataframe\">\n",
       "  <thead>\n",
       "    <tr style=\"text-align: right;\">\n",
       "      <th></th>\n",
       "      <th>author</th>\n",
       "      <th>country</th>\n",
       "      <th>genre</th>\n",
       "      <th>isbn</th>\n",
       "      <th>language</th>\n",
       "      <th>pages</th>\n",
       "      <th>publisher</th>\n",
       "      <th>summary</th>\n",
       "      <th>title</th>\n",
       "    </tr>\n",
       "  </thead>\n",
       "  <tbody>\n",
       "    <tr>\n",
       "      <th>0</th>\n",
       "      <td>David Anthony Durham</td>\n",
       "      <td>United States</td>\n",
       "      <td>Fantasy fiction novel</td>\n",
       "      <td>0-385-50606-6</td>\n",
       "      <td>English</td>\n",
       "      <td>592 pp</td>\n",
       "      <td>Doubleday</td>\n",
       "      <td>Acacia: The War with the Mein is a 2007 novel ...</td>\n",
       "      <td>Acacia: The War with the Mein</td>\n",
       "    </tr>\n",
       "    <tr>\n",
       "      <th>1</th>\n",
       "      <td>Sir Henry Newbolt</td>\n",
       "      <td>United Kingdom</td>\n",
       "      <td>Fantasy novel</td>\n",
       "      <td>NaN</td>\n",
       "      <td>English</td>\n",
       "      <td>362 pp.</td>\n",
       "      <td>William Blackwood and Sons</td>\n",
       "      <td>Aladore is a classic allegorical fantasy novel...</td>\n",
       "      <td>Aladore</td>\n",
       "    </tr>\n",
       "    <tr>\n",
       "      <th>2</th>\n",
       "      <td>Lewis Carroll</td>\n",
       "      <td>United Kingdom</td>\n",
       "      <td>Fiction</td>\n",
       "      <td>NaN</td>\n",
       "      <td>English</td>\n",
       "      <td>NaN</td>\n",
       "      <td>Macmillan</td>\n",
       "      <td>Alice's Adventures in Wonderland (commonly sho...</td>\n",
       "      <td>Alice's Adventures in Wonderland</td>\n",
       "    </tr>\n",
       "    <tr>\n",
       "      <th>3</th>\n",
       "      <td>Patricia A. McKillip</td>\n",
       "      <td>United States</td>\n",
       "      <td>Fantasy novel</td>\n",
       "      <td>0-441-01130-6 (first edition, hardback)</td>\n",
       "      <td>English</td>\n",
       "      <td>314 (first edition, hardback)</td>\n",
       "      <td>Ace Books</td>\n",
       "      <td>Alphabet of Thorn is a 2004 fantasy novel writ...</td>\n",
       "      <td>Alphabet of Thorn</td>\n",
       "    </tr>\n",
       "    <tr>\n",
       "      <th>4</th>\n",
       "      <td>Michael Chabon</td>\n",
       "      <td>United States</td>\n",
       "      <td>Historical fiction</td>\n",
       "      <td>0-679-45004-1</td>\n",
       "      <td>English</td>\n",
       "      <td>639 pp</td>\n",
       "      <td>Random House</td>\n",
       "      <td>The Amazing Adventures of Kavalier &amp; Clay is a...</td>\n",
       "      <td>The Amazing Adventures of Kavalier &amp; Clay</td>\n",
       "    </tr>\n",
       "  </tbody>\n",
       "</table>\n",
       "</div>"
      ],
      "text/plain": [
       "                 author         country                  genre  \\\n",
       "0  David Anthony Durham   United States  Fantasy fiction novel   \n",
       "1     Sir Henry Newbolt  United Kingdom          Fantasy novel   \n",
       "2         Lewis Carroll  United Kingdom                Fiction   \n",
       "3  Patricia A. McKillip   United States          Fantasy novel   \n",
       "4        Michael Chabon   United States     Historical fiction   \n",
       "\n",
       "                                      isbn language  \\\n",
       "0                            0-385-50606-6  English   \n",
       "1                                      NaN  English   \n",
       "2                                      NaN  English   \n",
       "3  0-441-01130-6 (first edition, hardback)  English   \n",
       "4                            0-679-45004-1  English   \n",
       "\n",
       "                           pages                   publisher  \\\n",
       "0                         592 pp                   Doubleday   \n",
       "1                        362 pp.  William Blackwood and Sons   \n",
       "2                            NaN                   Macmillan   \n",
       "3  314 (first edition, hardback)                   Ace Books   \n",
       "4                         639 pp                Random House   \n",
       "\n",
       "                                             summary  \\\n",
       "0  Acacia: The War with the Mein is a 2007 novel ...   \n",
       "1  Aladore is a classic allegorical fantasy novel...   \n",
       "2  Alice's Adventures in Wonderland (commonly sho...   \n",
       "3  Alphabet of Thorn is a 2004 fantasy novel writ...   \n",
       "4  The Amazing Adventures of Kavalier & Clay is a...   \n",
       "\n",
       "                                       title  \n",
       "0              Acacia: The War with the Mein  \n",
       "1                                    Aladore  \n",
       "2           Alice's Adventures in Wonderland  \n",
       "3                          Alphabet of Thorn  \n",
       "4  The Amazing Adventures of Kavalier & Clay  "
      ]
     },
     "execution_count": 8,
     "metadata": {},
     "output_type": "execute_result"
    }
   ],
   "source": [
    "df.head()"
   ]
  },
  {
   "cell_type": "code",
   "execution_count": 9,
   "metadata": {
    "ExecuteTime": {
     "end_time": "2018-06-09T18:12:29.479773Z",
     "start_time": "2018-06-09T18:12:29.437149Z"
    }
   },
   "outputs": [],
   "source": [
    "df['pages'] = df['pages'].str.extract('(\\d+)')"
   ]
  },
  {
   "cell_type": "code",
   "execution_count": 10,
   "metadata": {
    "ExecuteTime": {
     "end_time": "2018-06-09T18:12:29.494240Z",
     "start_time": "2018-06-09T18:12:29.484519Z"
    }
   },
   "outputs": [],
   "source": [
    "df['pages'] = pd.to_numeric(df['pages'], errors='coerce')"
   ]
  },
  {
   "cell_type": "code",
   "execution_count": 11,
   "metadata": {
    "ExecuteTime": {
     "end_time": "2018-06-09T18:12:29.503834Z",
     "start_time": "2018-06-09T18:12:29.496689Z"
    }
   },
   "outputs": [],
   "source": [
    "df.pages.fillna(0,inplace=True)"
   ]
  },
  {
   "cell_type": "code",
   "execution_count": 12,
   "metadata": {
    "ExecuteTime": {
     "end_time": "2018-06-09T18:12:29.512281Z",
     "start_time": "2018-06-09T18:12:29.507654Z"
    }
   },
   "outputs": [],
   "source": [
    "df['pages'] = df.pages.astype(int)"
   ]
  },
  {
   "cell_type": "code",
   "execution_count": 13,
   "metadata": {
    "ExecuteTime": {
     "end_time": "2018-06-09T18:12:29.525653Z",
     "start_time": "2018-06-09T18:12:29.514820Z"
    }
   },
   "outputs": [
    {
     "name": "stdout",
     "output_type": "stream",
     "text": [
      "<class 'pandas.core.frame.DataFrame'>\n",
      "RangeIndex: 1041 entries, 0 to 1040\n",
      "Data columns (total 9 columns):\n",
      "author       1021 non-null object\n",
      "country      957 non-null object\n",
      "genre        1001 non-null object\n",
      "isbn         637 non-null object\n",
      "language     988 non-null object\n",
      "pages        1041 non-null int64\n",
      "publisher    882 non-null object\n",
      "summary      1041 non-null object\n",
      "title        1024 non-null object\n",
      "dtypes: int64(1), object(8)\n",
      "memory usage: 73.3+ KB\n"
     ]
    }
   ],
   "source": [
    "df.info()"
   ]
  },
  {
   "cell_type": "code",
   "execution_count": 14,
   "metadata": {
    "ExecuteTime": {
     "end_time": "2018-06-09T18:12:29.890277Z",
     "start_time": "2018-06-09T18:12:29.528718Z"
    }
   },
   "outputs": [
    {
     "data": {
      "text/plain": [
       "array([[<matplotlib.axes._subplots.AxesSubplot object at 0x104d6eda0>]],\n",
       "      dtype=object)"
      ]
     },
     "execution_count": 14,
     "metadata": {},
     "output_type": "execute_result"
    },
    {
     "data": {
      "image/png": "[encoded data removed]",
      "text/plain": [
       "<Figure size 432x288 with 1 Axes>"
      ]
     },
     "metadata": {},
     "output_type": "display_data"
    }
   ],
   "source": [
    "df[df.pages>0].hist()"
   ]
  },
  {
   "cell_type": "code",
   "execution_count": 15,
   "metadata": {
    "ExecuteTime": {
     "end_time": "2018-06-09T18:12:29.898795Z",
     "start_time": "2018-06-09T18:12:29.892091Z"
    }
   },
   "outputs": [],
   "source": [
    "df = df.dropna(subset=['title','author'])"
   ]
  },
  {
   "cell_type": "code",
   "execution_count": 22,
   "metadata": {
    "ExecuteTime": {
     "end_time": "2018-06-09T18:16:15.961066Z",
     "start_time": "2018-06-09T18:16:15.957364Z"
    }
   },
   "outputs": [],
   "source": [
    "from sklearn.feature_extraction.text import TfidfVectorizer, CountVectorizer\n",
    "\n",
    "# Linear Kernel is faster than cosine_similarities\n",
    "from sklearn.metrics.pairwise import linear_kernel\n",
    "\n",
    "# Parse the stringified features into their corresponding python objects\n",
    "from ast import literal_eval\n",
    "from sklearn.metrics.pairwise import cosine_similarity"
   ]
  },
  {
   "cell_type": "code",
   "execution_count": 17,
   "metadata": {
    "ExecuteTime": {
     "end_time": "2018-06-09T18:13:36.963991Z",
     "start_time": "2018-06-09T18:13:36.959142Z"
    }
   },
   "outputs": [],
   "source": [
    "# Function to convert all strings to lower case and strip names of spaces\n",
    "def clean_data(x):\n",
    "    if isinstance(x, list):\n",
    "        return [str.lower(i.replace(\" \", \"\")) for i in x]\n",
    "    else:\n",
    "        #Check if director exists. If not, return empty string\n",
    "        if isinstance(x, str):\n",
    "            return str.lower(x.replace(\" \", \"\"))\n",
    "        else:\n",
    "            return ''"
   ]
  },
  {
   "cell_type": "code",
   "execution_count": 100,
   "metadata": {
    "ExecuteTime": {
     "end_time": "2018-06-09T18:36:00.566943Z",
     "start_time": "2018-06-09T18:36:00.560891Z"
    }
   },
   "outputs": [],
   "source": [
    "def get_recommendations(title,cosine_sim=cosine_sim):\n",
    "    # Get the index of the movie that matches the title\n",
    "    idx = indices[title]\n",
    "    \n",
    "    # Get the pairwise similarity scores of all movies with that movie\n",
    "    sim_scores = list(enumerate(cosine_sim[idx]))\n",
    "    \n",
    "    # Sort the movies based on the similarity scores\n",
    "    sim_scores = sorted(sim_scores, key=lambda x: x[1], reverse=True)\n",
    "    \n",
    "    # Get the scores of the 10 most similar movies\n",
    "    sim_scores = sim_scores[1:11]\n",
    "    \n",
    "    # Get the movie indices\n",
    "    book_indices = [i[0] for i in sim_scores]\n",
    "    \n",
    "    # Return the top 10 most similar movies\n",
    "    return df['title'].iloc[book_indices]"
   ]
  },
  {
   "cell_type": "code",
   "execution_count": 101,
   "metadata": {
    "ExecuteTime": {
     "end_time": "2018-06-09T18:36:01.952148Z",
     "start_time": "2018-06-09T18:36:01.947216Z"
    }
   },
   "outputs": [],
   "source": [
    "def create_soup(x):\n",
    "    return x['author'] + ' ' +x['summary'] + ' ' + x['publisher'] + ' ' + x['country']"
   ]
  },
  {
   "cell_type": "code",
   "execution_count": 102,
   "metadata": {
    "ExecuteTime": {
     "end_time": "2018-06-09T18:36:02.148636Z",
     "start_time": "2018-06-09T18:36:02.104910Z"
    }
   },
   "outputs": [],
   "source": [
    "features = ['author','summary','publisher','country']\n",
    "\n",
    "for feature in features:\n",
    "    df[feature] = df[feature].apply(clean_data)"
   ]
  },
  {
   "cell_type": "code",
   "execution_count": 103,
   "metadata": {
    "ExecuteTime": {
     "end_time": "2018-06-09T18:36:02.393054Z",
     "start_time": "2018-06-09T18:36:02.328883Z"
    }
   },
   "outputs": [],
   "source": [
    "df['soup'] = df.apply(create_soup,axis=1)"
   ]
  },
  {
   "cell_type": "code",
   "execution_count": 104,
   "metadata": {
    "ExecuteTime": {
     "end_time": "2018-06-09T18:36:03.265963Z",
     "start_time": "2018-06-09T18:36:02.523822Z"
    }
   },
   "outputs": [],
   "source": [
    "count = CountVectorizer(stop_words='english')\n",
    "count_matrix = count.fit_transform(df.soup)"
   ]
  },
  {
   "cell_type": "code",
   "execution_count": 105,
   "metadata": {
    "ExecuteTime": {
     "end_time": "2018-06-09T18:36:03.316577Z",
     "start_time": "2018-06-09T18:36:03.267691Z"
    }
   },
   "outputs": [],
   "source": [
    "cosine_sim = cosine_similarity(count_matrix, count_matrix)"
   ]
  },
  {
   "cell_type": "code",
   "execution_count": 106,
   "metadata": {
    "ExecuteTime": {
     "end_time": "2018-06-09T18:36:03.325668Z",
     "start_time": "2018-06-09T18:36:03.319266Z"
    }
   },
   "outputs": [],
   "source": [
    "#df = df.reset_index()\n",
    "indices = pd.Series(df.index, index=df['title'])"
   ]
  },
  {
   "cell_type": "code",
   "execution_count": 107,
   "metadata": {
    "ExecuteTime": {
     "end_time": "2018-06-09T18:36:03.336760Z",
     "start_time": "2018-06-09T18:36:03.327399Z"
    }
   },
   "outputs": [
    {
     "data": {
      "text/plain": [
       "176                Orlando: A Biography\n",
       "849     Something Wicked This Way Comes\n",
       "1011                               Worm\n",
       "268             The Wolves in the Walls\n",
       "510                Flowers for Algernon\n",
       "67                            Fledgling\n",
       "507                           Fledgling\n",
       "944                              Uglies\n",
       "945                              Uglies\n",
       "820                   Saturn's Children\n",
       "Name: title, dtype: object"
      ]
     },
     "execution_count": 107,
     "metadata": {},
     "output_type": "execute_result"
    }
   ],
   "source": [
    "get_recommendations('American Gods')"
   ]
  },
  {
   "cell_type": "markdown",
   "metadata": {},
   "source": [
    "## Try with TF-IDF"
   ]
  },
  {
   "cell_type": "code",
   "execution_count": 108,
   "metadata": {
    "ExecuteTime": {
     "end_time": "2018-06-09T18:36:04.260882Z",
     "start_time": "2018-06-09T18:36:03.529871Z"
    }
   },
   "outputs": [
    {
     "data": {
      "text/plain": [
       "(1019, 143440)"
      ]
     },
     "execution_count": 108,
     "metadata": {},
     "output_type": "execute_result"
    }
   ],
   "source": [
    "tfidf = TfidfVectorizer(stop_words='english')\n",
    "tfidf_matrix = tfidf.fit_transform(df['soup'])\n",
    "tfidf_matrix.shape"
   ]
  },
  {
   "cell_type": "code",
   "execution_count": 109,
   "metadata": {
    "ExecuteTime": {
     "end_time": "2018-06-09T18:36:04.295022Z",
     "start_time": "2018-06-09T18:36:04.262986Z"
    }
   },
   "outputs": [],
   "source": [
    "cosine_sim2 = cosine_similarity(tfidf_matrix,tfidf_matrix)"
   ]
  },
  {
   "cell_type": "code",
   "execution_count": 110,
   "metadata": {
    "ExecuteTime": {
     "end_time": "2018-06-09T18:36:04.307483Z",
     "start_time": "2018-06-09T18:36:04.298739Z"
    }
   },
   "outputs": [],
   "source": [
    "indices = pd.Series(df.index, index=df['title']).drop_duplicates()"
   ]
  },
  {
   "cell_type": "code",
   "execution_count": 111,
   "metadata": {
    "ExecuteTime": {
     "end_time": "2018-06-09T18:36:04.322056Z",
     "start_time": "2018-06-09T18:36:04.310757Z"
    }
   },
   "outputs": [
    {
     "data": {
      "text/plain": [
       "912                                          Template\n",
       "849                   Something Wicked This Way Comes\n",
       "176                              Orlando: A Biography\n",
       "165                                        Neverwhere\n",
       "93                                         The Hobbit\n",
       "510                              Flowers for Algernon\n",
       "268                           The Wolves in the Walls\n",
       "297              Aleriel, or A Voyage to Other Worlds\n",
       "247    The Water-Babies, A Fairy Tale for a Land Baby\n",
       "78                                         Good Omens\n",
       "Name: title, dtype: object"
      ]
     },
     "execution_count": 111,
     "metadata": {},
     "output_type": "execute_result"
    }
   ],
   "source": [
    "get_recommendations('American Gods', cosine_sim2)"
   ]
  },
  {
   "cell_type": "code",
   "execution_count": 112,
   "metadata": {
    "ExecuteTime": {
     "end_time": "2018-06-09T18:36:04.365435Z",
     "start_time": "2018-06-09T18:36:04.356185Z"
    }
   },
   "outputs": [
    {
     "data": {
      "text/plain": [
       "485           Ender's Shadow\n",
       "489           Ender in Exile\n",
       "482     Speaker for the Dead\n",
       "861     Speaker for the Dead\n",
       "486           Shadow Puppets\n",
       "863           Shadow Puppets\n",
       "865        Shadows in Flight\n",
       "883        Starship Troopers\n",
       "483                 Xenocide\n",
       "1013                Xenocide\n",
       "Name: title, dtype: object"
      ]
     },
     "execution_count": 112,
     "metadata": {},
     "output_type": "execute_result"
    }
   ],
   "source": [
    "get_recommendations(\"Ender's Game\",cosine_sim2)"
   ]
  },
  {
   "cell_type": "code",
   "execution_count": 118,
   "metadata": {
    "ExecuteTime": {
     "end_time": "2018-06-09T18:36:53.963750Z",
     "start_time": "2018-06-09T18:36:53.955144Z"
    }
   },
   "outputs": [
    {
     "data": {
      "text/plain": [
       "485                   Ender's Shadow\n",
       "489                   Ender in Exile\n",
       "482             Speaker for the Dead\n",
       "861             Speaker for the Dead\n",
       "883                Starship Troopers\n",
       "534                   The Glass Bees\n",
       "625        The Left Hand of Darkness\n",
       "106                         Brisingr\n",
       "118    Jonathan Strange & Mr Norrell\n",
       "987            The War of the Worlds\n",
       "Name: title, dtype: object"
      ]
     },
     "execution_count": 118,
     "metadata": {},
     "output_type": "execute_result"
    }
   ],
   "source": [
    "get_recommendations(\"Ender's Game\")"
   ]
  },
  {
   "cell_type": "code",
   "execution_count": 113,
   "metadata": {
    "ExecuteTime": {
     "end_time": "2018-06-09T18:36:04.531341Z",
     "start_time": "2018-06-09T18:36:04.523429Z"
    }
   },
   "outputs": [
    {
     "data": {
      "text/plain": [
       "625                          The Left Hand of Darkness\n",
       "883                                  Starship Troopers\n",
       "463                                       Dune Messiah\n",
       "706    The Narrative of Arthur Gordon Pym of Nantucket\n",
       "497                                     Fahrenheit 451\n",
       "987                              The War of the Worlds\n",
       "311                                     Atlas Shrugged\n",
       "269                         The Wonderful Wizard of Oz\n",
       "93                                          The Hobbit\n",
       "249                                     Watership Down\n",
       "Name: title, dtype: object"
      ]
     },
     "execution_count": 113,
     "metadata": {},
     "output_type": "execute_result"
    }
   ],
   "source": [
    "get_recommendations(\"Dune\",cosine_sim2)"
   ]
  },
  {
   "cell_type": "code",
   "execution_count": 114,
   "metadata": {
    "ExecuteTime": {
     "end_time": "2018-06-09T18:36:04.742313Z",
     "start_time": "2018-06-09T18:36:04.729896Z"
    }
   },
   "outputs": [
    {
     "data": {
      "text/plain": [
       "744    The Sea of Monsters\n",
       "93              The Hobbit\n",
       "293          Alas, Babylon\n",
       "336                  Black\n",
       "193             Roverandom\n",
       "209               Stardust\n",
       "144         M Is for Magic\n",
       "33                Cold Tom\n",
       "272     The Worm Ouroboros\n",
       "316     A Princess of Mars\n",
       "Name: title, dtype: object"
      ]
     },
     "execution_count": 114,
     "metadata": {},
     "output_type": "execute_result"
    }
   ],
   "source": [
    "get_recommendations(\"Howl's Moving Castle\",cosine_sim2)"
   ]
  },
  {
   "cell_type": "code",
   "execution_count": 115,
   "metadata": {
    "ExecuteTime": {
     "end_time": "2018-06-09T18:36:04.930932Z",
     "start_time": "2018-06-09T18:36:04.924479Z"
    }
   },
   "outputs": [
    {
     "data": {
      "text/plain": [
       "591                The Island of Doctor Moreau\n",
       "307                            Desolation Road\n",
       "444                            Desolation Road\n",
       "828               The Secret of Saturn's Rings\n",
       "650     Lucky Starr and the Big Sun of Mercury\n",
       "547                    Halo: The Fall of Reach\n",
       "760                               Player Piano\n",
       "665             The Master: An Adventure Story\n",
       "273                          A Wrinkle in Time\n",
       "1012                         A Wrinkle in Time\n",
       "Name: title, dtype: object"
      ]
     },
     "execution_count": 115,
     "metadata": {},
     "output_type": "execute_result"
    }
   ],
   "source": [
    "get_recommendations(\"The Haunting of Hill House\",cosine_sim2)"
   ]
  },
  {
   "cell_type": "code",
   "execution_count": 116,
   "metadata": {
    "ExecuteTime": {
     "end_time": "2018-06-09T18:36:05.113162Z",
     "start_time": "2018-06-09T18:36:05.107900Z"
    }
   },
   "outputs": [
    {
     "data": {
      "text/plain": [
       "883                                  Starship Troopers\n",
       "193                                         Roverandom\n",
       "131                              The Lays of Beleriand\n",
       "706    The Narrative of Arthur Gordon Pym of Nantucket\n",
       "497                                     Fahrenheit 451\n",
       "191                        Red Moon and Black Mountain\n",
       "202                                   The Silmarillion\n",
       "625                          The Left Hand of Darkness\n",
       "311                                     Atlas Shrugged\n",
       "141                             The Book of Lost Tales\n",
       "Name: title, dtype: object"
      ]
     },
     "execution_count": 116,
     "metadata": {},
     "output_type": "execute_result"
    }
   ],
   "source": [
    "get_recommendations(\"The Hobbit\",cosine_sim2)"
   ]
  },
  {
   "cell_type": "code",
   "execution_count": 117,
   "metadata": {
    "ExecuteTime": {
     "end_time": "2018-06-09T18:36:05.320776Z",
     "start_time": "2018-06-09T18:36:05.314862Z"
    }
   },
   "outputs": [
    {
     "data": {
      "text/plain": [
       "883                                  Starship Troopers\n",
       "193                                         Roverandom\n",
       "706    The Narrative of Arthur Gordon Pym of Nantucket\n",
       "625                          The Left Hand of Darkness\n",
       "131                              The Lays of Beleriand\n",
       "497                                     Fahrenheit 451\n",
       "118                      Jonathan Strange & Mr Norrell\n",
       "202                                   The Silmarillion\n",
       "311                                     Atlas Shrugged\n",
       "191                        Red Moon and Black Mountain\n",
       "Name: title, dtype: object"
      ]
     },
     "execution_count": 117,
     "metadata": {},
     "output_type": "execute_result"
    }
   ],
   "source": [
    "get_recommendations(\"The Hobbit\")"
   ]
  },
  {
   "cell_type": "code",
   "execution_count": 119,
   "metadata": {
    "ExecuteTime": {
     "end_time": "2018-06-09T18:39:00.665888Z",
     "start_time": "2018-06-09T18:39:00.659303Z"
    }
   },
   "outputs": [
    {
     "data": {
      "text/plain": [
       "348         Breakfast of Champions\n",
       "143    May Bird and the Ever After\n",
       "323                 Swords of Mars\n",
       "255             The Whitby Witches\n",
       "391               Consider Phlebas\n",
       "403               Consider Phlebas\n",
       "845            Slaughterhouse-Five\n",
       "689                 Moon of Mutiny\n",
       "244         The War of the Flowers\n",
       "34                        Coraline\n",
       "Name: title, dtype: object"
      ]
     },
     "execution_count": 119,
     "metadata": {},
     "output_type": "execute_result"
    }
   ],
   "source": [
    "get_recommendations(\"Cat's Cradle\",cosine_sim2)"
   ]
  },
  {
   "cell_type": "code",
   "execution_count": 120,
   "metadata": {
    "ExecuteTime": {
     "end_time": "2018-06-09T18:39:23.421864Z",
     "start_time": "2018-06-09T18:39:23.414595Z"
    }
   },
   "outputs": [
    {
     "data": {
      "text/plain": [
       "176           Orlando: A Biography\n",
       "348         Breakfast of Champions\n",
       "143    May Bird and the Ever After\n",
       "323                 Swords of Mars\n",
       "760                   Player Piano\n",
       "510           Flowers for Algernon\n",
       "40                 Dorothea Dreams\n",
       "384              City of Illusions\n",
       "244         The War of the Flowers\n",
       "255             The Whitby Witches\n",
       "Name: title, dtype: object"
      ]
     },
     "execution_count": 120,
     "metadata": {},
     "output_type": "execute_result"
    }
   ],
   "source": [
    "get_recommendations(\"Cat's Cradle\")"
   ]
  },
  {
   "cell_type": "code",
   "execution_count": null,
   "metadata": {},
   "outputs": [],
   "source": []
  }
 ],
 "metadata": {
  "kernelspec": {
   "display_name": "Python 3",
   "language": "python",
   "name": "python3"
  },
  "language_info": {
   "codemirror_mode": {
    "name": "ipython",
    "version": 3
   },
   "file_extension": ".py",
   "mimetype": "text/x-python",
   "name": "python",
   "nbconvert_exporter": "python",
   "pygments_lexer": "ipython3",
   "version": "3.6.5"
  },
  "toc": {
   "nav_menu": {},
   "number_sections": true,
   "sideBar": true,
   "skip_h1_title": false,
   "toc_cell": false,
   "toc_position": {},
   "toc_section_display": "block",
   "toc_window_display": true
  }
 },
 "nbformat": 4,
 "nbformat_minor": 2
}
