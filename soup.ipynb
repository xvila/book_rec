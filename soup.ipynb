{
 "cells": [
  {
   "cell_type": "markdown",
   "metadata": {},
   "source": [
    "## Python Packages "
   ]
  },
  {
   "cell_type": "code",
   "execution_count": 1,
   "metadata": {
    "ExecuteTime": {
     "end_time": "2018-07-05T14:41:52.514090Z",
     "start_time": "2018-07-05T14:41:51.965168Z"
    }
   },
   "outputs": [],
   "source": [
    "import pandas as pd\n",
    "from bs4 import BeautifulSoup\n",
    "import requests\n",
    "from amzsear import AmzSear"
   ]
  },
  {
   "cell_type": "markdown",
   "metadata": {},
   "source": [
    "## Helper Function"
   ]
  },
  {
   "cell_type": "code",
   "execution_count": 2,
   "metadata": {
    "ExecuteTime": {
     "end_time": "2018-07-05T14:41:52.522130Z",
     "start_time": "2018-07-05T14:41:52.516124Z"
    }
   },
   "outputs": [],
   "source": [
    "def get_urls(url):\n",
    "    links = []\n",
    "    \n",
    "    content = requests.get(url).content\n",
    "    soup = BeautifulSoup(content,'lxml')\n",
    "    table_classes = {\"class\": ['ul']}\n",
    "    tag = soup.findAll('i')\n",
    "\n",
    "    for link in tag:\n",
    "        try:\n",
    "            links.append('https://en.wikipedia.org'+link.find('a').get('href'))\n",
    "        except:\n",
    "            next\n",
    "            \n",
    "    return links"
   ]
  },
  {
   "cell_type": "code",
   "execution_count": 3,
   "metadata": {
    "ExecuteTime": {
     "end_time": "2018-07-05T14:41:52.531279Z",
     "start_time": "2018-07-05T14:41:52.523889Z"
    }
   },
   "outputs": [],
   "source": [
    "def scrape_wiki(arr):\n",
    "    l = []\n",
    "    exceptional_row_count = 0\n",
    "    \n",
    "    for url in arr:\n",
    "        result = {}\n",
    "        summaries = []\n",
    "        \n",
    "        content = requests.get(url).content\n",
    "        soup = BeautifulSoup(content,'lxml')\n",
    "        table = soup.find_all('table',{'class':'infobox vcard'})\n",
    "        summary = soup.find_all('p')\n",
    "        title = soup.find_all('h1',{'class':'firstHeading'})\n",
    "        \n",
    "        for t in title:\n",
    "                try:\n",
    "                    result['Title'] = t.find('i').text\n",
    "                except:\n",
    "                    next\n",
    "                    \n",
    "        for summ in summary:\n",
    "                try:\n",
    "                    summaries.append(summ.text)\n",
    "                except:\n",
    "                    next\n",
    "\n",
    "        result['Summary'] = ' '.join(summaries)\n",
    "            \n",
    "        if len(table)>0:\n",
    "            \n",
    "\n",
    "            for tr in table[0].find_all('tr'):\n",
    "                if tr.find('th'):\n",
    "                    try:\n",
    "                        result[tr.find('th').text] = tr.find('td').text\n",
    "                    except:\n",
    "                        next\n",
    "                else:\n",
    "                    # the first row Logos fall here\n",
    "                    exceptional_row_count += 1\n",
    "            #if exceptional_row_count > 1:\n",
    "                #print ('WARNING ExceptionalRow>1: ', table)\n",
    "                \n",
    "            \n",
    "\n",
    "            l.append(result)\n",
    "\n",
    "    return l"
   ]
  },
  {
   "cell_type": "code",
   "execution_count": 4,
   "metadata": {
    "ExecuteTime": {
     "end_time": "2018-07-05T14:41:52.539054Z",
     "start_time": "2018-07-05T14:41:52.533731Z"
    }
   },
   "outputs": [],
   "source": [
    "def get_ratings(isbn):\n",
    "    \n",
    "    amz = AmzSear(isbn)\n",
    "    last_item = amz.rget(-1)\n",
    "    \n",
    "    try:\n",
    "        ratings = last_item.rating.ratings_text\n",
    "        \n",
    "        return ratings\n",
    "    \n",
    "    except:\n",
    "        pass\n",
    "    \n",
    "    return "
   ]
  },
  {
   "cell_type": "code",
   "execution_count": 5,
   "metadata": {
    "ExecuteTime": {
     "end_time": "2018-07-05T14:41:52.545745Z",
     "start_time": "2018-07-05T14:41:52.540990Z"
    }
   },
   "outputs": [],
   "source": [
    "def get_ratings_count(isbn):\n",
    "    \n",
    "    amz = AmzSear(isbn)\n",
    "    last_item = amz.rget(-1)\n",
    "    \n",
    "    try:\n",
    "        r_count  = last_item.rating.ratings_count_text\n",
    "        \n",
    "        return r_count\n",
    "    \n",
    "    except:\n",
    "        pass\n",
    "    \n",
    "    return "
   ]
  },
  {
   "cell_type": "code",
   "execution_count": 6,
   "metadata": {
    "ExecuteTime": {
     "end_time": "2018-07-05T14:41:52.551005Z",
     "start_time": "2018-07-05T14:41:52.547735Z"
    }
   },
   "outputs": [],
   "source": [
    "def get_product_url(isbn):\n",
    "    \n",
    "    amz = AmzSear(isbn)\n",
    "    last_item = amz.rget(-1)\n",
    "    \n",
    "    try:\n",
    "        product_url  = last_item.product_url\n",
    "        \n",
    "        return product_url\n",
    "    \n",
    "    except:\n",
    "        pass\n",
    "    \n",
    "    return "
   ]
  },
  {
   "cell_type": "markdown",
   "metadata": {},
   "source": [
    "## Scrape Wikipedia"
   ]
  },
  {
   "cell_type": "code",
   "execution_count": 7,
   "metadata": {
    "ExecuteTime": {
     "end_time": "2018-07-05T14:41:52.558419Z",
     "start_time": "2018-07-05T14:41:52.553227Z"
    }
   },
   "outputs": [],
   "source": [
    "urls = ['https://en.wikipedia.org/wiki/List_of_fantasy_novels_(A%E2%80%93H)','https://en.wikipedia.org/wiki/List_of_fantasy_novels_(I%E2%80%93R)','https://en.wikipedia.org/wiki/List_of_fantasy_novels_(S%E2%80%93Z)','https://en.wikipedia.org/wiki/List_of_science_fiction_novels']"
   ]
  },
  {
   "cell_type": "code",
   "execution_count": 8,
   "metadata": {
    "ExecuteTime": {
     "end_time": "2018-07-05T14:41:53.341688Z",
     "start_time": "2018-07-05T14:41:52.561873Z"
    }
   },
   "outputs": [],
   "source": [
    "links = []\n",
    "\n",
    "for url in urls:\n",
    "    link = get_urls(url)\n",
    "    links.extend(link)"
   ]
  },
  {
   "cell_type": "code",
   "execution_count": 9,
   "metadata": {
    "ExecuteTime": {
     "end_time": "2018-07-05T14:48:37.333906Z",
     "start_time": "2018-07-05T14:41:53.344196Z"
    }
   },
   "outputs": [],
   "source": [
    "data = scrape_wiki(links)"
   ]
  },
  {
   "cell_type": "code",
   "execution_count": 10,
   "metadata": {
    "ExecuteTime": {
     "end_time": "2018-07-05T14:48:37.352436Z",
     "start_time": "2018-07-05T14:48:37.336587Z"
    }
   },
   "outputs": [],
   "source": [
    "df = pd.DataFrame(data)"
   ]
  },
  {
   "cell_type": "code",
   "execution_count": 11,
   "metadata": {
    "ExecuteTime": {
     "end_time": "2018-07-05T14:51:24.983493Z",
     "start_time": "2018-07-05T14:48:37.354556Z"
    }
   },
   "outputs": [],
   "source": [
    "df['ratings_text'] = df.ISBN.apply(get_ratings)"
   ]
  },
  {
   "cell_type": "code",
   "execution_count": 12,
   "metadata": {
    "ExecuteTime": {
     "end_time": "2018-07-05T14:54:09.493201Z",
     "start_time": "2018-07-05T14:51:24.985907Z"
    }
   },
   "outputs": [],
   "source": [
    "df['ratings_count'] = df.ISBN.apply(get_ratings_count)"
   ]
  },
  {
   "cell_type": "code",
   "execution_count": 13,
   "metadata": {
    "ExecuteTime": {
     "end_time": "2018-07-05T14:56:45.429342Z",
     "start_time": "2018-07-05T14:54:09.496625Z"
    }
   },
   "outputs": [],
   "source": [
    "df['product_url'] = df.ISBN.apply(get_product_url)"
   ]
  },
  {
   "cell_type": "code",
   "execution_count": 14,
   "metadata": {
    "ExecuteTime": {
     "end_time": "2018-07-05T14:56:45.631455Z",
     "start_time": "2018-07-05T14:56:45.432338Z"
    }
   },
   "outputs": [],
   "source": [
    "df.to_csv('data/books.csv')"
   ]
  },
  {
   "cell_type": "code",
   "execution_count": 15,
   "metadata": {
    "ExecuteTime": {
     "end_time": "2018-07-05T14:56:45.639244Z",
     "start_time": "2018-07-05T14:56:45.633164Z"
    }
   },
   "outputs": [
    {
     "name": "stdout",
     "output_type": "stream",
     "text": [
      "Dataframe shape:(1043, 58)\n"
     ]
    }
   ],
   "source": [
    "print(f'Dataframe shape:{df.shape}')"
   ]
  },
  {
   "cell_type": "code",
   "execution_count": 16,
   "metadata": {
    "ExecuteTime": {
     "end_time": "2018-07-05T14:56:45.645212Z",
     "start_time": "2018-07-05T14:56:45.641763Z"
    }
   },
   "outputs": [
    {
     "name": "stdout",
     "output_type": "stream",
     "text": [
      "All Done!\n"
     ]
    }
   ],
   "source": [
    "print('All Done!')"
   ]
  }
 ],
 "metadata": {
  "kernelspec": {
   "display_name": "Python 3",
   "language": "python",
   "name": "python3"
  },
  "language_info": {
   "codemirror_mode": {
    "name": "ipython",
    "version": 3
   },
   "file_extension": ".py",
   "mimetype": "text/x-python",
   "name": "python",
   "nbconvert_exporter": "python",
   "pygments_lexer": "ipython3",
   "version": "3.6.6"
  },
  "toc": {
   "nav_menu": {},
   "number_sections": true,
   "sideBar": true,
   "skip_h1_title": true,
   "toc_cell": false,
   "toc_position": {},
   "toc_section_display": "block",
   "toc_window_display": true
  }
 },
 "nbformat": 4,
 "nbformat_minor": 2
}
