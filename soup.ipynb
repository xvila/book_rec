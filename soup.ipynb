{
 "cells": [
  {
   "cell_type": "markdown",
   "metadata": {},
   "source": [
    "## Python Packages "
   ]
  },
  {
   "cell_type": "code",
   "execution_count": 1,
   "metadata": {
    "ExecuteTime": {
     "end_time": "2018-06-11T17:24:19.457957Z",
     "start_time": "2018-06-11T17:24:17.064271Z"
    }
   },
   "outputs": [],
   "source": [
    "import pandas as pd\n",
    "from bs4 import BeautifulSoup\n",
    "import requests\n",
    "from amzsear import AmzSear"
   ]
  },
  {
   "cell_type": "markdown",
   "metadata": {},
   "source": [
    "## Helper Function"
   ]
  },
  {
   "cell_type": "code",
   "execution_count": 2,
   "metadata": {
    "ExecuteTime": {
     "end_time": "2018-06-11T17:24:19.465917Z",
     "start_time": "2018-06-11T17:24:19.460876Z"
    }
   },
   "outputs": [],
   "source": [
    "def get_urls(url):\n",
    "    links = []\n",
    "    \n",
    "    content = requests.get(url).content\n",
    "    soup = BeautifulSoup(content,'lxml')\n",
    "    table_classes = {\"class\": ['ul']}\n",
    "    tag = soup.findAll('i')\n",
    "\n",
    "    for link in tag:\n",
    "        try:\n",
    "            links.append('https://en.wikipedia.org'+link.find('a').get('href'))\n",
    "        except:\n",
    "            next\n",
    "            \n",
    "    return links"
   ]
  },
  {
   "cell_type": "code",
   "execution_count": 3,
   "metadata": {
    "ExecuteTime": {
     "end_time": "2018-06-11T17:24:19.476172Z",
     "start_time": "2018-06-11T17:24:19.469388Z"
    }
   },
   "outputs": [],
   "source": [
    "def scrape_wiki(arr):\n",
    "    l = []\n",
    "    exceptional_row_count = 0\n",
    "    \n",
    "    for url in arr:\n",
    "        result = {}\n",
    "        summaries = []\n",
    "        \n",
    "        content = requests.get(url).content\n",
    "        soup = BeautifulSoup(content,'lxml')\n",
    "        table = soup.find_all('table',{'class':'infobox vcard'})\n",
    "        summary = soup.find_all('p')\n",
    "        title = soup.find_all('h1',{'class':'firstHeading'})\n",
    "        \n",
    "        for t in title:\n",
    "                try:\n",
    "                    result['Title'] = t.find('i').text\n",
    "                except:\n",
    "                    next\n",
    "                    \n",
    "        for summ in summary:\n",
    "                try:\n",
    "                    summaries.append(summ.text)\n",
    "                except:\n",
    "                    next\n",
    "\n",
    "        result['Summary'] = ' '.join(summaries)\n",
    "            \n",
    "        if len(table)>0:\n",
    "            \n",
    "\n",
    "            for tr in table[0].find_all('tr'):\n",
    "                if tr.find('th'):\n",
    "                    try:\n",
    "                        result[tr.find('th').text] = tr.find('td').text\n",
    "                    except:\n",
    "                        next\n",
    "                else:\n",
    "                    # the first row Logos fall here\n",
    "                    exceptional_row_count += 1\n",
    "            #if exceptional_row_count > 1:\n",
    "                #print ('WARNING ExceptionalRow>1: ', table)\n",
    "                \n",
    "            \n",
    "\n",
    "            l.append(result)\n",
    "\n",
    "    return l"
   ]
  },
  {
   "cell_type": "code",
   "execution_count": 4,
   "metadata": {
    "ExecuteTime": {
     "end_time": "2018-06-11T17:24:19.485656Z",
     "start_time": "2018-06-11T17:24:19.478920Z"
    }
   },
   "outputs": [],
   "source": [
    "def get_ratings(isbn):\n",
    "    \n",
    "    amz = AmzSear(isbn)\n",
    "    last_item = amz.rget(-1)\n",
    "    \n",
    "    try:\n",
    "        ratings = last_item.rating.ratings_text\n",
    "        \n",
    "        return ratings\n",
    "    \n",
    "    except:\n",
    "        pass\n",
    "    \n",
    "    return "
   ]
  },
  {
   "cell_type": "code",
   "execution_count": 5,
   "metadata": {
    "ExecuteTime": {
     "end_time": "2018-06-11T17:24:19.493682Z",
     "start_time": "2018-06-11T17:24:19.488490Z"
    }
   },
   "outputs": [],
   "source": [
    "def get_ratings_count(isbn):\n",
    "    \n",
    "    amz = AmzSear(isbn)\n",
    "    last_item = amz.rget(-1)\n",
    "    \n",
    "    try:\n",
    "        r_count  = last_item.rating.ratings_count_text\n",
    "        \n",
    "        return r_count\n",
    "    \n",
    "    except:\n",
    "        pass\n",
    "    \n",
    "    return "
   ]
  },
  {
   "cell_type": "code",
   "execution_count": 6,
   "metadata": {
    "ExecuteTime": {
     "end_time": "2018-06-11T17:24:19.503430Z",
     "start_time": "2018-06-11T17:24:19.495961Z"
    }
   },
   "outputs": [],
   "source": [
    "def get_product_url(isbn):\n",
    "    \n",
    "    amz = AmzSear(isbn)\n",
    "    last_item = amz.rget(-1)\n",
    "    \n",
    "    try:\n",
    "        product_url  = last_item.product_url\n",
    "        \n",
    "        return product_url\n",
    "    \n",
    "    except:\n",
    "        pass\n",
    "    \n",
    "    return "
   ]
  },
  {
   "cell_type": "markdown",
   "metadata": {},
   "source": [
    "## Scrape Wikipedia"
   ]
  },
  {
   "cell_type": "code",
   "execution_count": 7,
   "metadata": {
    "ExecuteTime": {
     "end_time": "2018-06-11T17:24:19.509513Z",
     "start_time": "2018-06-11T17:24:19.505877Z"
    }
   },
   "outputs": [],
   "source": [
    "urls = ['https://en.wikipedia.org/wiki/List_of_fantasy_novels_(A%E2%80%93H)','https://en.wikipedia.org/wiki/List_of_fantasy_novels_(I%E2%80%93R)','https://en.wikipedia.org/wiki/List_of_fantasy_novels_(S%E2%80%93Z)','https://en.wikipedia.org/wiki/List_of_science_fiction_novels']"
   ]
  },
  {
   "cell_type": "code",
   "execution_count": 8,
   "metadata": {
    "ExecuteTime": {
     "end_time": "2018-06-11T17:24:20.613893Z",
     "start_time": "2018-06-11T17:24:19.512283Z"
    }
   },
   "outputs": [],
   "source": [
    "links = []\n",
    "\n",
    "for url in urls:\n",
    "    link = get_urls(url)\n",
    "    links.extend(link)"
   ]
  },
  {
   "cell_type": "code",
   "execution_count": 9,
   "metadata": {
    "ExecuteTime": {
     "end_time": "2018-06-11T17:31:36.954795Z",
     "start_time": "2018-06-11T17:24:20.615920Z"
    }
   },
   "outputs": [],
   "source": [
    "data = scrape_wiki(links)"
   ]
  },
  {
   "cell_type": "code",
   "execution_count": 10,
   "metadata": {
    "ExecuteTime": {
     "end_time": "2018-06-11T17:31:36.973846Z",
     "start_time": "2018-06-11T17:31:36.957273Z"
    }
   },
   "outputs": [],
   "source": [
    "df = pd.DataFrame(data)"
   ]
  },
  {
   "cell_type": "code",
   "execution_count": 11,
   "metadata": {
    "ExecuteTime": {
     "end_time": "2018-06-11T17:36:09.200190Z",
     "start_time": "2018-06-11T17:31:36.976612Z"
    }
   },
   "outputs": [],
   "source": [
    "df['ratings_text'] = df.ISBN.apply(get_ratings)"
   ]
  },
  {
   "cell_type": "code",
   "execution_count": 12,
   "metadata": {
    "ExecuteTime": {
     "end_time": "2018-06-11T17:40:08.825688Z",
     "start_time": "2018-06-11T17:36:09.202689Z"
    }
   },
   "outputs": [],
   "source": [
    "df['ratings_count'] = df.ISBN.apply(get_ratings_count)"
   ]
  },
  {
   "cell_type": "code",
   "execution_count": 13,
   "metadata": {
    "ExecuteTime": {
     "end_time": "2018-06-11T17:44:10.060119Z",
     "start_time": "2018-06-11T17:40:08.831246Z"
    }
   },
   "outputs": [],
   "source": [
    "df['product_url'] = df.ISBN.apply(get_product_url)"
   ]
  },
  {
   "cell_type": "code",
   "execution_count": 14,
   "metadata": {
    "ExecuteTime": {
     "end_time": "2018-06-11T17:44:10.334476Z",
     "start_time": "2018-06-11T17:44:10.063128Z"
    }
   },
   "outputs": [],
   "source": [
    "df.to_csv('data/books.csv')"
   ]
  },
  {
   "cell_type": "code",
   "execution_count": 15,
   "metadata": {
    "ExecuteTime": {
     "end_time": "2018-06-11T17:44:10.342248Z",
     "start_time": "2018-06-11T17:44:10.336921Z"
    }
   },
   "outputs": [
    {
     "name": "stdout",
     "output_type": "stream",
     "text": [
      "Dataframe shape:(1041, 57)\n"
     ]
    }
   ],
   "source": [
    "print(f'Dataframe shape:{df.shape}')"
   ]
  },
  {
   "cell_type": "code",
   "execution_count": 16,
   "metadata": {
    "ExecuteTime": {
     "end_time": "2018-06-11T17:44:10.350214Z",
     "start_time": "2018-06-11T17:44:10.344211Z"
    }
   },
   "outputs": [
    {
     "name": "stdout",
     "output_type": "stream",
     "text": [
      "All Done!\n"
     ]
    }
   ],
   "source": [
    "print('All Done!')"
   ]
  }
 ],
 "metadata": {
  "kernelspec": {
   "display_name": "Python 3",
   "language": "python",
   "name": "python3"
  },
  "language_info": {
   "codemirror_mode": {
    "name": "ipython",
    "version": 3
   },
   "file_extension": ".py",
   "mimetype": "text/x-python",
   "name": "python",
   "nbconvert_exporter": "python",
   "pygments_lexer": "ipython3",
   "version": "3.6.5"
  },
  "toc": {
   "nav_menu": {},
   "number_sections": true,
   "sideBar": true,
   "skip_h1_title": true,
   "toc_cell": false,
   "toc_position": {},
   "toc_section_display": "block",
   "toc_window_display": true
  }
 },
 "nbformat": 4,
 "nbformat_minor": 2
}
